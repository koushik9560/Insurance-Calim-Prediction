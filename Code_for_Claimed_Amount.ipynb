{
  "nbformat": 4,
  "nbformat_minor": 0,
  "metadata": {
    "colab": {
      "provenance": []
    },
    "kernelspec": {
      "name": "python3",
      "display_name": "Python 3"
    },
    "language_info": {
      "name": "python"
    }
  },
  "cells": [
    {
      "cell_type": "code",
      "execution_count": null,
      "metadata": {
        "id": "d40ca080"
      },
      "outputs": [],
      "source": [
        "import pandas as pd\n",
        "import numpy as np\n",
        "import matplotlib.pyplot as plt\n",
        "import seaborn as sns\n",
        "from sklearn.neural_network import MLPClassifier\n",
        "import warnings\n",
        "warnings.filterwarnings('ignore')\n",
        "plt.style.use('fivethirtyeight')"
      ]
    },
    {
      "cell_type": "code",
      "execution_count": null,
      "metadata": {
        "id": "a0fd3019"
      },
      "outputs": [],
      "source": [
        "ins_df=pd.read_csv(\"/content/insurance_claimed_data.csv\")"
      ]
    },
    {
      "cell_type": "code",
      "execution_count": null,
      "metadata": {
        "id": "55140455",
        "colab": {
          "base_uri": "https://localhost:8080/"
        },
        "outputId": "d4134973-e27d-48b0-8c81-2366de56dff1"
      },
      "outputs": [
        {
          "output_type": "execute_result",
          "data": {
            "text/plain": [
              "   Age Agency_Code           Type  Commision Channel  Duration  Sales  \\\n",
              "0   48         C2B       Airlines       0.70  Online         7   2.51   \n",
              "1   36         EPX  Travel Agency       0.00  Online        34  20.00   \n",
              "2   39         CWT  Travel Agency       5.94  Online         3   9.90   \n",
              "3   36         EPX  Travel Agency       0.00  Online         4  26.00   \n",
              "4   33         JZI       Airlines       6.30  Online        53  18.00   \n",
              "\n",
              "  Destination Claimed       Product_Name  Claimed_Amount  \n",
              "0        ASIA      No    Customised Plan               0  \n",
              "1        ASIA      No    Customised Plan               0  \n",
              "2    Americas      No    Customised Plan               0  \n",
              "3        ASIA      No  Cancellation Plan               0  \n",
              "4        ASIA      No        Bronze Plan               0  "
            ],
            "text/html": [
              "\n",
              "  <div id=\"df-97805f9e-0227-43a5-bb7f-be79d6dea5c7\" class=\"colab-df-container\">\n",
              "    <div>\n",
              "<style scoped>\n",
              "    .dataframe tbody tr th:only-of-type {\n",
              "        vertical-align: middle;\n",
              "    }\n",
              "\n",
              "    .dataframe tbody tr th {\n",
              "        vertical-align: top;\n",
              "    }\n",
              "\n",
              "    .dataframe thead th {\n",
              "        text-align: right;\n",
              "    }\n",
              "</style>\n",
              "<table border=\"1\" class=\"dataframe\">\n",
              "  <thead>\n",
              "    <tr style=\"text-align: right;\">\n",
              "      <th></th>\n",
              "      <th>Age</th>\n",
              "      <th>Agency_Code</th>\n",
              "      <th>Type</th>\n",
              "      <th>Commision</th>\n",
              "      <th>Channel</th>\n",
              "      <th>Duration</th>\n",
              "      <th>Sales</th>\n",
              "      <th>Destination</th>\n",
              "      <th>Claimed</th>\n",
              "      <th>Product_Name</th>\n",
              "      <th>Claimed_Amount</th>\n",
              "    </tr>\n",
              "  </thead>\n",
              "  <tbody>\n",
              "    <tr>\n",
              "      <th>0</th>\n",
              "      <td>48</td>\n",
              "      <td>C2B</td>\n",
              "      <td>Airlines</td>\n",
              "      <td>0.70</td>\n",
              "      <td>Online</td>\n",
              "      <td>7</td>\n",
              "      <td>2.51</td>\n",
              "      <td>ASIA</td>\n",
              "      <td>No</td>\n",
              "      <td>Customised Plan</td>\n",
              "      <td>0</td>\n",
              "    </tr>\n",
              "    <tr>\n",
              "      <th>1</th>\n",
              "      <td>36</td>\n",
              "      <td>EPX</td>\n",
              "      <td>Travel Agency</td>\n",
              "      <td>0.00</td>\n",
              "      <td>Online</td>\n",
              "      <td>34</td>\n",
              "      <td>20.00</td>\n",
              "      <td>ASIA</td>\n",
              "      <td>No</td>\n",
              "      <td>Customised Plan</td>\n",
              "      <td>0</td>\n",
              "    </tr>\n",
              "    <tr>\n",
              "      <th>2</th>\n",
              "      <td>39</td>\n",
              "      <td>CWT</td>\n",
              "      <td>Travel Agency</td>\n",
              "      <td>5.94</td>\n",
              "      <td>Online</td>\n",
              "      <td>3</td>\n",
              "      <td>9.90</td>\n",
              "      <td>Americas</td>\n",
              "      <td>No</td>\n",
              "      <td>Customised Plan</td>\n",
              "      <td>0</td>\n",
              "    </tr>\n",
              "    <tr>\n",
              "      <th>3</th>\n",
              "      <td>36</td>\n",
              "      <td>EPX</td>\n",
              "      <td>Travel Agency</td>\n",
              "      <td>0.00</td>\n",
              "      <td>Online</td>\n",
              "      <td>4</td>\n",
              "      <td>26.00</td>\n",
              "      <td>ASIA</td>\n",
              "      <td>No</td>\n",
              "      <td>Cancellation Plan</td>\n",
              "      <td>0</td>\n",
              "    </tr>\n",
              "    <tr>\n",
              "      <th>4</th>\n",
              "      <td>33</td>\n",
              "      <td>JZI</td>\n",
              "      <td>Airlines</td>\n",
              "      <td>6.30</td>\n",
              "      <td>Online</td>\n",
              "      <td>53</td>\n",
              "      <td>18.00</td>\n",
              "      <td>ASIA</td>\n",
              "      <td>No</td>\n",
              "      <td>Bronze Plan</td>\n",
              "      <td>0</td>\n",
              "    </tr>\n",
              "  </tbody>\n",
              "</table>\n",
              "</div>\n",
              "    <div class=\"colab-df-buttons\">\n",
              "\n",
              "  <div class=\"colab-df-container\">\n",
              "    <button class=\"colab-df-convert\" onclick=\"convertToInteractive('df-97805f9e-0227-43a5-bb7f-be79d6dea5c7')\"\n",
              "            title=\"Convert this dataframe to an interactive table.\"\n",
              "            style=\"display:none;\">\n",
              "\n",
              "  <svg xmlns=\"http://www.w3.org/2000/svg\" height=\"24px\" viewBox=\"0 -960 960 960\">\n",
              "    <path d=\"M120-120v-720h720v720H120Zm60-500h600v-160H180v160Zm220 220h160v-160H400v160Zm0 220h160v-160H400v160ZM180-400h160v-160H180v160Zm440 0h160v-160H620v160ZM180-180h160v-160H180v160Zm440 0h160v-160H620v160Z\"/>\n",
              "  </svg>\n",
              "    </button>\n",
              "\n",
              "  <style>\n",
              "    .colab-df-container {\n",
              "      display:flex;\n",
              "      gap: 12px;\n",
              "    }\n",
              "\n",
              "    .colab-df-convert {\n",
              "      background-color: #E8F0FE;\n",
              "      border: none;\n",
              "      border-radius: 50%;\n",
              "      cursor: pointer;\n",
              "      display: none;\n",
              "      fill: #1967D2;\n",
              "      height: 32px;\n",
              "      padding: 0 0 0 0;\n",
              "      width: 32px;\n",
              "    }\n",
              "\n",
              "    .colab-df-convert:hover {\n",
              "      background-color: #E2EBFA;\n",
              "      box-shadow: 0px 1px 2px rgba(60, 64, 67, 0.3), 0px 1px 3px 1px rgba(60, 64, 67, 0.15);\n",
              "      fill: #174EA6;\n",
              "    }\n",
              "\n",
              "    .colab-df-buttons div {\n",
              "      margin-bottom: 4px;\n",
              "    }\n",
              "\n",
              "    [theme=dark] .colab-df-convert {\n",
              "      background-color: #3B4455;\n",
              "      fill: #D2E3FC;\n",
              "    }\n",
              "\n",
              "    [theme=dark] .colab-df-convert:hover {\n",
              "      background-color: #434B5C;\n",
              "      box-shadow: 0px 1px 3px 1px rgba(0, 0, 0, 0.15);\n",
              "      filter: drop-shadow(0px 1px 2px rgba(0, 0, 0, 0.3));\n",
              "      fill: #FFFFFF;\n",
              "    }\n",
              "  </style>\n",
              "\n",
              "    <script>\n",
              "      const buttonEl =\n",
              "        document.querySelector('#df-97805f9e-0227-43a5-bb7f-be79d6dea5c7 button.colab-df-convert');\n",
              "      buttonEl.style.display =\n",
              "        google.colab.kernel.accessAllowed ? 'block' : 'none';\n",
              "\n",
              "      async function convertToInteractive(key) {\n",
              "        const element = document.querySelector('#df-97805f9e-0227-43a5-bb7f-be79d6dea5c7');\n",
              "        const dataTable =\n",
              "          await google.colab.kernel.invokeFunction('convertToInteractive',\n",
              "                                                    [key], {});\n",
              "        if (!dataTable) return;\n",
              "\n",
              "        const docLinkHtml = 'Like what you see? Visit the ' +\n",
              "          '<a target=\"_blank\" href=https://colab.research.google.com/notebooks/data_table.ipynb>data table notebook</a>'\n",
              "          + ' to learn more about interactive tables.';\n",
              "        element.innerHTML = '';\n",
              "        dataTable['output_type'] = 'display_data';\n",
              "        await google.colab.output.renderOutput(dataTable, element);\n",
              "        const docLink = document.createElement('div');\n",
              "        docLink.innerHTML = docLinkHtml;\n",
              "        element.appendChild(docLink);\n",
              "      }\n",
              "    </script>\n",
              "  </div>\n",
              "\n",
              "\n",
              "<div id=\"df-fdbada0b-961e-4aba-a7a3-ba44bab9df7a\">\n",
              "  <button class=\"colab-df-quickchart\" onclick=\"quickchart('df-fdbada0b-961e-4aba-a7a3-ba44bab9df7a')\"\n",
              "            title=\"Suggest charts\"\n",
              "            style=\"display:none;\">\n",
              "\n",
              "<svg xmlns=\"http://www.w3.org/2000/svg\" height=\"24px\"viewBox=\"0 0 24 24\"\n",
              "     width=\"24px\">\n",
              "    <g>\n",
              "        <path d=\"M19 3H5c-1.1 0-2 .9-2 2v14c0 1.1.9 2 2 2h14c1.1 0 2-.9 2-2V5c0-1.1-.9-2-2-2zM9 17H7v-7h2v7zm4 0h-2V7h2v10zm4 0h-2v-4h2v4z\"/>\n",
              "    </g>\n",
              "</svg>\n",
              "  </button>\n",
              "\n",
              "<style>\n",
              "  .colab-df-quickchart {\n",
              "      --bg-color: #E8F0FE;\n",
              "      --fill-color: #1967D2;\n",
              "      --hover-bg-color: #E2EBFA;\n",
              "      --hover-fill-color: #174EA6;\n",
              "      --disabled-fill-color: #AAA;\n",
              "      --disabled-bg-color: #DDD;\n",
              "  }\n",
              "\n",
              "  [theme=dark] .colab-df-quickchart {\n",
              "      --bg-color: #3B4455;\n",
              "      --fill-color: #D2E3FC;\n",
              "      --hover-bg-color: #434B5C;\n",
              "      --hover-fill-color: #FFFFFF;\n",
              "      --disabled-bg-color: #3B4455;\n",
              "      --disabled-fill-color: #666;\n",
              "  }\n",
              "\n",
              "  .colab-df-quickchart {\n",
              "    background-color: var(--bg-color);\n",
              "    border: none;\n",
              "    border-radius: 50%;\n",
              "    cursor: pointer;\n",
              "    display: none;\n",
              "    fill: var(--fill-color);\n",
              "    height: 32px;\n",
              "    padding: 0;\n",
              "    width: 32px;\n",
              "  }\n",
              "\n",
              "  .colab-df-quickchart:hover {\n",
              "    background-color: var(--hover-bg-color);\n",
              "    box-shadow: 0 1px 2px rgba(60, 64, 67, 0.3), 0 1px 3px 1px rgba(60, 64, 67, 0.15);\n",
              "    fill: var(--button-hover-fill-color);\n",
              "  }\n",
              "\n",
              "  .colab-df-quickchart-complete:disabled,\n",
              "  .colab-df-quickchart-complete:disabled:hover {\n",
              "    background-color: var(--disabled-bg-color);\n",
              "    fill: var(--disabled-fill-color);\n",
              "    box-shadow: none;\n",
              "  }\n",
              "\n",
              "  .colab-df-spinner {\n",
              "    border: 2px solid var(--fill-color);\n",
              "    border-color: transparent;\n",
              "    border-bottom-color: var(--fill-color);\n",
              "    animation:\n",
              "      spin 1s steps(1) infinite;\n",
              "  }\n",
              "\n",
              "  @keyframes spin {\n",
              "    0% {\n",
              "      border-color: transparent;\n",
              "      border-bottom-color: var(--fill-color);\n",
              "      border-left-color: var(--fill-color);\n",
              "    }\n",
              "    20% {\n",
              "      border-color: transparent;\n",
              "      border-left-color: var(--fill-color);\n",
              "      border-top-color: var(--fill-color);\n",
              "    }\n",
              "    30% {\n",
              "      border-color: transparent;\n",
              "      border-left-color: var(--fill-color);\n",
              "      border-top-color: var(--fill-color);\n",
              "      border-right-color: var(--fill-color);\n",
              "    }\n",
              "    40% {\n",
              "      border-color: transparent;\n",
              "      border-right-color: var(--fill-color);\n",
              "      border-top-color: var(--fill-color);\n",
              "    }\n",
              "    60% {\n",
              "      border-color: transparent;\n",
              "      border-right-color: var(--fill-color);\n",
              "    }\n",
              "    80% {\n",
              "      border-color: transparent;\n",
              "      border-right-color: var(--fill-color);\n",
              "      border-bottom-color: var(--fill-color);\n",
              "    }\n",
              "    90% {\n",
              "      border-color: transparent;\n",
              "      border-bottom-color: var(--fill-color);\n",
              "    }\n",
              "  }\n",
              "</style>\n",
              "\n",
              "  <script>\n",
              "    async function quickchart(key) {\n",
              "      const quickchartButtonEl =\n",
              "        document.querySelector('#' + key + ' button');\n",
              "      quickchartButtonEl.disabled = true;  // To prevent multiple clicks.\n",
              "      quickchartButtonEl.classList.add('colab-df-spinner');\n",
              "      try {\n",
              "        const charts = await google.colab.kernel.invokeFunction(\n",
              "            'suggestCharts', [key], {});\n",
              "      } catch (error) {\n",
              "        console.error('Error during call to suggestCharts:', error);\n",
              "      }\n",
              "      quickchartButtonEl.classList.remove('colab-df-spinner');\n",
              "      quickchartButtonEl.classList.add('colab-df-quickchart-complete');\n",
              "    }\n",
              "    (() => {\n",
              "      let quickchartButtonEl =\n",
              "        document.querySelector('#df-fdbada0b-961e-4aba-a7a3-ba44bab9df7a button');\n",
              "      quickchartButtonEl.style.display =\n",
              "        google.colab.kernel.accessAllowed ? 'block' : 'none';\n",
              "    })();\n",
              "  </script>\n",
              "</div>\n",
              "\n",
              "    </div>\n",
              "  </div>\n"
            ],
            "application/vnd.google.colaboratory.intrinsic+json": {
              "type": "dataframe",
              "variable_name": "ins_df",
              "summary": "{\n  \"name\": \"ins_df\",\n  \"rows\": 3000,\n  \"fields\": [\n    {\n      \"column\": \"Age\",\n      \"properties\": {\n        \"dtype\": \"number\",\n        \"std\": 10,\n        \"min\": 8,\n        \"max\": 84,\n        \"num_unique_values\": 70,\n        \"samples\": [\n          38,\n          48,\n          49\n        ],\n        \"semantic_type\": \"\",\n        \"description\": \"\"\n      }\n    },\n    {\n      \"column\": \"Agency_Code\",\n      \"properties\": {\n        \"dtype\": \"category\",\n        \"num_unique_values\": 4,\n        \"samples\": [\n          \"EPX\",\n          \"JZI\",\n          \"C2B\"\n        ],\n        \"semantic_type\": \"\",\n        \"description\": \"\"\n      }\n    },\n    {\n      \"column\": \"Type\",\n      \"properties\": {\n        \"dtype\": \"category\",\n        \"num_unique_values\": 2,\n        \"samples\": [\n          \"Travel Agency\",\n          \"Airlines\"\n        ],\n        \"semantic_type\": \"\",\n        \"description\": \"\"\n      }\n    },\n    {\n      \"column\": \"Commision\",\n      \"properties\": {\n        \"dtype\": \"number\",\n        \"std\": 25.481454506625926,\n        \"min\": 0.0,\n        \"max\": 210.21,\n        \"num_unique_values\": 324,\n        \"samples\": [\n          24.86,\n          18.85\n        ],\n        \"semantic_type\": \"\",\n        \"description\": \"\"\n      }\n    },\n    {\n      \"column\": \"Channel\",\n      \"properties\": {\n        \"dtype\": \"category\",\n        \"num_unique_values\": 2,\n        \"samples\": [\n          \"Offline\",\n          \"Online\"\n        ],\n        \"semantic_type\": \"\",\n        \"description\": \"\"\n      }\n    },\n    {\n      \"column\": \"Duration\",\n      \"properties\": {\n        \"dtype\": \"number\",\n        \"std\": 134,\n        \"min\": -1,\n        \"max\": 4580,\n        \"num_unique_values\": 257,\n        \"samples\": [\n          289,\n          118\n        ],\n        \"semantic_type\": \"\",\n        \"description\": \"\"\n      }\n    },\n    {\n      \"column\": \"Sales\",\n      \"properties\": {\n        \"dtype\": \"number\",\n        \"std\": 70.73395353143037,\n        \"min\": 0.0,\n        \"max\": 539.0,\n        \"num_unique_values\": 380,\n        \"samples\": [\n          188.0,\n          181.0\n        ],\n        \"semantic_type\": \"\",\n        \"description\": \"\"\n      }\n    },\n    {\n      \"column\": \"Destination\",\n      \"properties\": {\n        \"dtype\": \"category\",\n        \"num_unique_values\": 3,\n        \"samples\": [\n          \"ASIA\",\n          \"Americas\"\n        ],\n        \"semantic_type\": \"\",\n        \"description\": \"\"\n      }\n    },\n    {\n      \"column\": \"Claimed\",\n      \"properties\": {\n        \"dtype\": \"category\",\n        \"num_unique_values\": 2,\n        \"samples\": [\n          \"Yes\",\n          \"No\"\n        ],\n        \"semantic_type\": \"\",\n        \"description\": \"\"\n      }\n    },\n    {\n      \"column\": \"Product_Name\",\n      \"properties\": {\n        \"dtype\": \"category\",\n        \"num_unique_values\": 5,\n        \"samples\": [\n          \"Cancellation Plan\",\n          \"Gold Plan\"\n        ],\n        \"semantic_type\": \"\",\n        \"description\": \"\"\n      }\n    },\n    {\n      \"column\": \"Claimed_Amount\",\n      \"properties\": {\n        \"dtype\": \"number\",\n        \"std\": 2240,\n        \"min\": 0,\n        \"max\": 5989,\n        \"num_unique_values\": 749,\n        \"samples\": [\n          5106,\n          4118\n        ],\n        \"semantic_type\": \"\",\n        \"description\": \"\"\n      }\n    }\n  ]\n}"
            }
          },
          "metadata": {},
          "execution_count": 5
        }
      ],
      "source": [
        "ins_df.head()"
      ]
    },
    {
      "cell_type": "code",
      "execution_count": null,
      "metadata": {
        "id": "e76d021a",
        "colab": {
          "base_uri": "https://localhost:8080/"
        },
        "outputId": "c39dd702-6fd0-4177-cde9-df1800c4d248"
      },
      "outputs": [
        {
          "output_type": "stream",
          "name": "stdout",
          "text": [
            "<class 'pandas.core.frame.DataFrame'>\n",
            "RangeIndex: 3000 entries, 0 to 2999\n",
            "Data columns (total 11 columns):\n",
            " #   Column          Non-Null Count  Dtype  \n",
            "---  ------          --------------  -----  \n",
            " 0   Age             3000 non-null   int64  \n",
            " 1   Agency_Code     3000 non-null   object \n",
            " 2   Type            3000 non-null   object \n",
            " 3   Commision       3000 non-null   float64\n",
            " 4   Channel         3000 non-null   object \n",
            " 5   Duration        3000 non-null   int64  \n",
            " 6   Sales           3000 non-null   float64\n",
            " 7   Destination     3000 non-null   object \n",
            " 8   Claimed         3000 non-null   object \n",
            " 9   Product_Name    3000 non-null   object \n",
            " 10  Claimed_Amount  3000 non-null   int64  \n",
            "dtypes: float64(2), int64(3), object(6)\n",
            "memory usage: 257.9+ KB\n"
          ]
        }
      ],
      "source": [
        "ins_df.info()"
      ]
    },
    {
      "cell_type": "code",
      "execution_count": null,
      "metadata": {
        "id": "ad8a587b",
        "colab": {
          "base_uri": "https://localhost:8080/"
        },
        "outputId": "e996db5f-71fc-4391-e4ad-289616a8a236"
      },
      "outputs": [
        {
          "output_type": "stream",
          "name": "stdout",
          "text": [
            "Age \n",
            " Age\n",
            "36    999\n",
            "31    125\n",
            "48    108\n",
            "30     96\n",
            "35     94\n",
            "     ... \n",
            "8       1\n",
            "84      1\n",
            "83      1\n",
            "15      1\n",
            "11      1\n",
            "Name: count, Length: 70, dtype: int64\n",
            "\n",
            "\n",
            "Agency_Code \n",
            " Agency_Code\n",
            "EPX    1365\n",
            "C2B     924\n",
            "CWT     472\n",
            "JZI     239\n",
            "Name: count, dtype: int64\n",
            "\n",
            "\n",
            "Type \n",
            " Type\n",
            "Travel Agency    1837\n",
            "Airlines         1163\n",
            "Name: count, dtype: int64\n",
            "\n",
            "\n",
            "Commision \n",
            " Commision\n",
            "0.00     1366\n",
            "63.21      62\n",
            "23.76      61\n",
            "54.00      61\n",
            "17.82      57\n",
            "         ... \n",
            "49.40       1\n",
            "68.08       1\n",
            "15.56       1\n",
            "1.25        1\n",
            "13.50       1\n",
            "Name: count, Length: 324, dtype: int64\n",
            "\n",
            "\n",
            "Channel \n",
            " Channel\n",
            "Online     2954\n",
            "Offline      46\n",
            "Name: count, dtype: int64\n",
            "\n",
            "\n",
            "Duration \n",
            " Duration\n",
            "8      83\n",
            "5      82\n",
            "10     81\n",
            "6      81\n",
            "11     81\n",
            "       ..\n",
            "393     1\n",
            "244     1\n",
            "208     1\n",
            "431     1\n",
            "416     1\n",
            "Name: count, Length: 257, dtype: int64\n",
            "\n",
            "\n",
            "Sales \n",
            " Sales\n",
            "20.00     225\n",
            "10.00     163\n",
            "22.00      79\n",
            "252.85     60\n",
            "216.00     59\n",
            "         ... \n",
            "171.00      1\n",
            "159.00      1\n",
            "177.00      1\n",
            "1.99        1\n",
            "287.40      1\n",
            "Name: count, Length: 380, dtype: int64\n",
            "\n",
            "\n",
            "Claimed \n",
            " Claimed\n",
            "No     2076\n",
            "Yes     924\n",
            "Name: count, dtype: int64\n",
            "\n",
            "\n",
            "Claimed Amount \n",
            " Claimed_Amount\n",
            "0       2076\n",
            "5281       4\n",
            "4184       3\n",
            "4376       3\n",
            "4403       3\n",
            "        ... \n",
            "4683       1\n",
            "5064       1\n",
            "5501       1\n",
            "5592       1\n",
            "4547       1\n",
            "Name: count, Length: 749, dtype: int64\n",
            "\n",
            "\n",
            "Destination \n",
            " Destination\n",
            "ASIA        2465\n",
            "Americas     320\n",
            "EUROPE       215\n",
            "Name: count, dtype: int64\n",
            "\n",
            "\n",
            "Claimed Amount \n",
            " Claimed_Amount\n",
            "0       2076\n",
            "5281       4\n",
            "4184       3\n",
            "4376       3\n",
            "4403       3\n",
            "        ... \n",
            "4683       1\n",
            "5064       1\n",
            "5501       1\n",
            "5592       1\n",
            "4547       1\n",
            "Name: count, Length: 749, dtype: int64\n"
          ]
        }
      ],
      "source": [
        "print('Age \\n',ins_df.Age.value_counts())\n",
        "print('\\n')\n",
        "print('Agency_Code \\n',ins_df.Agency_Code.value_counts())\n",
        "print('\\n')\n",
        "print('Type \\n',ins_df.Type.value_counts())\n",
        "print('\\n')\n",
        "print('Commision \\n',ins_df.Commision.value_counts())\n",
        "print('\\n')\n",
        "print('Channel \\n',ins_df.Channel.value_counts())\n",
        "print('\\n')\n",
        "print('Duration \\n',ins_df.Duration.value_counts())\n",
        "print('\\n')\n",
        "print('Sales \\n',ins_df.Sales.value_counts())\n",
        "print('\\n')\n",
        "print('Claimed \\n',ins_df.Claimed.value_counts())\n",
        "print('\\n')\n",
        "print('Claimed Amount \\n',ins_df.Claimed_Amount.value_counts())\n",
        "print('\\n')\n",
        "print('Destination \\n',ins_df.Destination.value_counts())\n",
        "print('\\n')\n",
        "print('Claimed Amount \\n',ins_df.Claimed_Amount.value_counts())"
      ]
    },
    {
      "cell_type": "code",
      "execution_count": null,
      "metadata": {
        "id": "634a0b06",
        "colab": {
          "base_uri": "https://localhost:8080/"
        },
        "outputId": "61c245d2-2cfb-48c0-9bd2-82da3b1cfaf8"
      },
      "outputs": [
        {
          "output_type": "execute_result",
          "data": {
            "text/plain": [
              "Index(['Age', 'Agency_Code', 'Type', 'Commision', 'Channel', 'Duration',\n",
              "       'Sales', 'Destination', 'Claimed', 'Product_Name', 'Claimed_Amount'],\n",
              "      dtype='object')"
            ]
          },
          "metadata": {},
          "execution_count": 8
        }
      ],
      "source": [
        "ins_df.columns"
      ]
    },
    {
      "cell_type": "code",
      "execution_count": null,
      "metadata": {
        "id": "e1c1e110",
        "colab": {
          "base_uri": "https://localhost:8080/"
        },
        "outputId": "800a328f-1a0e-478c-d0a8-3768c8279823"
      },
      "outputs": [
        {
          "output_type": "execute_result",
          "data": {
            "text/plain": [
              "(3000, 11)"
            ]
          },
          "metadata": {},
          "execution_count": 9
        }
      ],
      "source": [
        "ins_df.shape"
      ]
    },
    {
      "cell_type": "code",
      "execution_count": null,
      "metadata": {
        "id": "f7d63597",
        "colab": {
          "base_uri": "https://localhost:8080/"
        },
        "outputId": "14a30b7c-df7b-4d74-ec18-6f9ae5034515"
      },
      "outputs": [
        {
          "output_type": "stream",
          "name": "stdout",
          "text": [
            "Claimed_Amount\n",
            "0       0.692000\n",
            "5281    0.001333\n",
            "4184    0.001000\n",
            "4376    0.001000\n",
            "4403    0.001000\n",
            "          ...   \n",
            "4683    0.000333\n",
            "5064    0.000333\n",
            "5501    0.000333\n",
            "5592    0.000333\n",
            "4547    0.000333\n",
            "Name: proportion, Length: 749, dtype: float64\n"
          ]
        }
      ],
      "source": [
        "# Get the proportions\n",
        "print(ins_df.Claimed_Amount.value_counts(normalize=True))\n"
      ]
    },
    {
      "cell_type": "code",
      "execution_count": null,
      "metadata": {
        "id": "845a0dfc",
        "colab": {
          "base_uri": "https://localhost:8080/"
        },
        "outputId": "5216442a-4ce5-4510-d357-8edc3df60687"
      },
      "outputs": [
        {
          "output_type": "stream",
          "name": "stdout",
          "text": [
            "\n",
            "\n",
            "feature: Agency_Code\n",
            "['C2B', 'EPX', 'CWT', 'JZI']\n",
            "Categories (4, object): ['C2B', 'CWT', 'EPX', 'JZI']\n",
            "[0 2 1 3]\n",
            "\n",
            "\n",
            "feature: Type\n",
            "['Airlines', 'Travel Agency']\n",
            "Categories (2, object): ['Airlines', 'Travel Agency']\n",
            "[0 1]\n",
            "\n",
            "\n",
            "feature: Channel\n",
            "['Online', 'Offline']\n",
            "Categories (2, object): ['Offline', 'Online']\n",
            "[1 0]\n",
            "\n",
            "\n",
            "feature: Destination\n",
            "['ASIA', 'Americas', 'EUROPE']\n",
            "Categories (3, object): ['ASIA', 'Americas', 'EUROPE']\n",
            "[0 1 2]\n",
            "\n",
            "\n",
            "feature: Claimed\n",
            "['No', 'Yes']\n",
            "Categories (2, object): ['No', 'Yes']\n",
            "[0 1]\n",
            "\n",
            "\n",
            "feature: Product_Name\n",
            "['Customised Plan', 'Cancellation Plan', 'Bronze Plan', 'Silver Plan', 'Gold Plan']\n",
            "Categories (5, object): ['Bronze Plan', 'Cancellation Plan', 'Customised Plan', 'Gold Plan',\n",
            "                         'Silver Plan']\n",
            "[2 1 0 4 3]\n"
          ]
        }
      ],
      "source": [
        "for feature in ins_df.columns:\n",
        "    if ins_df[feature].dtype == 'object':\n",
        "        print('\\n')\n",
        "        print('feature:',feature)\n",
        "        print(pd.Categorical(ins_df[feature].unique()))\n",
        "        print(pd.Categorical(ins_df[feature].unique()).codes)\n",
        "        ins_df[feature] = pd.Categorical(ins_df[feature]).codes"
      ]
    },
    {
      "cell_type": "code",
      "execution_count": null,
      "metadata": {
        "id": "c77570cb"
      },
      "outputs": [],
      "source": [
        "from sklearn.model_selection import train_test_split"
      ]
    },
    {
      "cell_type": "code",
      "execution_count": null,
      "metadata": {
        "id": "323013f1",
        "colab": {
          "base_uri": "https://localhost:8080/"
        },
        "outputId": "e83b82af-9ad0-47ab-fc4d-0230277a03d8"
      },
      "outputs": [
        {
          "output_type": "stream",
          "name": "stdout",
          "text": [
            "Age \n",
            " Age\n",
            "36    999\n",
            "31    125\n",
            "48    108\n",
            "30     96\n",
            "35     94\n",
            "     ... \n",
            "8       1\n",
            "84      1\n",
            "83      1\n",
            "15      1\n",
            "11      1\n",
            "Name: count, Length: 70, dtype: int64\n",
            "\n",
            "\n",
            "Agency_Code \n",
            " Agency_Code\n",
            "2    1365\n",
            "0     924\n",
            "1     472\n",
            "3     239\n",
            "Name: count, dtype: int64\n",
            "\n",
            "\n",
            "Type \n",
            " Type\n",
            "1    1837\n",
            "0    1163\n",
            "Name: count, dtype: int64\n",
            "\n",
            "\n",
            "Commision \n",
            " Commision\n",
            "0.00     1366\n",
            "63.21      62\n",
            "23.76      61\n",
            "54.00      61\n",
            "17.82      57\n",
            "         ... \n",
            "49.40       1\n",
            "68.08       1\n",
            "15.56       1\n",
            "1.25        1\n",
            "13.50       1\n",
            "Name: count, Length: 324, dtype: int64\n",
            "\n",
            "\n",
            "Channel \n",
            " Channel\n",
            "1    2954\n",
            "0      46\n",
            "Name: count, dtype: int64\n",
            "\n",
            "\n",
            "Duration \n",
            " Duration\n",
            "8      83\n",
            "5      82\n",
            "10     81\n",
            "6      81\n",
            "11     81\n",
            "       ..\n",
            "393     1\n",
            "244     1\n",
            "208     1\n",
            "431     1\n",
            "416     1\n",
            "Name: count, Length: 257, dtype: int64\n",
            "\n",
            "\n",
            "Sales \n",
            " Sales\n",
            "20.00     225\n",
            "10.00     163\n",
            "22.00      79\n",
            "252.85     60\n",
            "216.00     59\n",
            "         ... \n",
            "171.00      1\n",
            "159.00      1\n",
            "177.00      1\n",
            "1.99        1\n",
            "287.40      1\n",
            "Name: count, Length: 380, dtype: int64\n",
            "\n",
            "\n",
            "Claimed_Amount \n",
            " Claimed_Amount\n",
            "0       2076\n",
            "5281       4\n",
            "4184       3\n",
            "4376       3\n",
            "4403       3\n",
            "        ... \n",
            "4683       1\n",
            "5064       1\n",
            "5501       1\n",
            "5592       1\n",
            "4547       1\n",
            "Name: count, Length: 749, dtype: int64\n",
            "\n",
            "\n",
            "Destination \n",
            " Destination\n",
            "0    2465\n",
            "1     320\n",
            "2     215\n",
            "Name: count, dtype: int64\n",
            "\n",
            "\n",
            "Product_name \n",
            " Product_Name\n",
            "2    1136\n",
            "1     678\n",
            "0     650\n",
            "4     427\n",
            "3     109\n",
            "Name: count, dtype: int64\n",
            "\n",
            "\n"
          ]
        }
      ],
      "source": [
        "print('Age \\n',ins_df.Age.value_counts())\n",
        "print('\\n')\n",
        "print('Agency_Code \\n',ins_df.Agency_Code.value_counts())\n",
        "print('\\n')\n",
        "print('Type \\n',ins_df.Type.value_counts())\n",
        "print('\\n')\n",
        "\n",
        "print('Commision \\n',ins_df.Commision.value_counts())\n",
        "print('\\n')\n",
        "print('Channel \\n',ins_df.Channel.value_counts())\n",
        "print('\\n')\n",
        "print('Duration \\n',ins_df.Duration.value_counts())\n",
        "print('\\n')\n",
        "print('Sales \\n',ins_df.Sales.value_counts())\n",
        "print('\\n')\n",
        "print('Claimed_Amount \\n',ins_df.Claimed_Amount.value_counts())\n",
        "print('\\n')\n",
        "print('Destination \\n',ins_df.Destination.value_counts())\n",
        "print('\\n')\n",
        "print('Product_name \\n',ins_df.Product_Name.value_counts())\n",
        "print('\\n')"
      ]
    },
    {
      "cell_type": "code",
      "execution_count": null,
      "metadata": {
        "id": "1b0592f0",
        "colab": {
          "base_uri": "https://localhost:8080/"
        },
        "outputId": "e5dc6689-9aa0-4ed1-fece-9f5621408f73"
      },
      "outputs": [
        {
          "output_type": "stream",
          "name": "stdout",
          "text": [
            "<class 'pandas.core.frame.DataFrame'>\n",
            "RangeIndex: 3000 entries, 0 to 2999\n",
            "Data columns (total 11 columns):\n",
            " #   Column          Non-Null Count  Dtype  \n",
            "---  ------          --------------  -----  \n",
            " 0   Age             3000 non-null   int64  \n",
            " 1   Agency_Code     3000 non-null   int8   \n",
            " 2   Type            3000 non-null   int8   \n",
            " 3   Commision       3000 non-null   float64\n",
            " 4   Channel         3000 non-null   int8   \n",
            " 5   Duration        3000 non-null   int64  \n",
            " 6   Sales           3000 non-null   float64\n",
            " 7   Destination     3000 non-null   int8   \n",
            " 8   Claimed         3000 non-null   int8   \n",
            " 9   Product_Name    3000 non-null   int8   \n",
            " 10  Claimed_Amount  3000 non-null   int64  \n",
            "dtypes: float64(2), int64(3), int8(6)\n",
            "memory usage: 134.9 KB\n"
          ]
        }
      ],
      "source": [
        "ins_df.info()"
      ]
    },
    {
      "cell_type": "code",
      "execution_count": null,
      "metadata": {
        "id": "58f3518b"
      },
      "outputs": [],
      "source": [
        "ld_df = ins_df"
      ]
    },
    {
      "cell_type": "code",
      "execution_count": null,
      "metadata": {
        "id": "d0c9f2a1",
        "colab": {
          "base_uri": "https://localhost:8080/"
        },
        "outputId": "acb87ba2-fcfa-4fde-a286-4bdfcebbfe80"
      },
      "outputs": [
        {
          "output_type": "execute_result",
          "data": {
            "text/plain": [
              "   Age  Agency_Code  Type  Commision  Channel  Duration  Sales  Destination  \\\n",
              "0   48            0     0       0.70        1         7   2.51            0   \n",
              "1   36            2     1       0.00        1        34  20.00            0   \n",
              "2   39            1     1       5.94        1         3   9.90            1   \n",
              "3   36            2     1       0.00        1         4  26.00            0   \n",
              "4   33            3     0       6.30        1        53  18.00            0   \n",
              "\n",
              "   Claimed  Product_Name  \n",
              "0        0             2  \n",
              "1        0             2  \n",
              "2        0             2  \n",
              "3        0             1  \n",
              "4        0             0  "
            ],
            "text/html": [
              "\n",
              "  <div id=\"df-f9c1c2ac-10bb-4824-af19-cfba18d1df04\" class=\"colab-df-container\">\n",
              "    <div>\n",
              "<style scoped>\n",
              "    .dataframe tbody tr th:only-of-type {\n",
              "        vertical-align: middle;\n",
              "    }\n",
              "\n",
              "    .dataframe tbody tr th {\n",
              "        vertical-align: top;\n",
              "    }\n",
              "\n",
              "    .dataframe thead th {\n",
              "        text-align: right;\n",
              "    }\n",
              "</style>\n",
              "<table border=\"1\" class=\"dataframe\">\n",
              "  <thead>\n",
              "    <tr style=\"text-align: right;\">\n",
              "      <th></th>\n",
              "      <th>Age</th>\n",
              "      <th>Agency_Code</th>\n",
              "      <th>Type</th>\n",
              "      <th>Commision</th>\n",
              "      <th>Channel</th>\n",
              "      <th>Duration</th>\n",
              "      <th>Sales</th>\n",
              "      <th>Destination</th>\n",
              "      <th>Claimed</th>\n",
              "      <th>Product_Name</th>\n",
              "    </tr>\n",
              "  </thead>\n",
              "  <tbody>\n",
              "    <tr>\n",
              "      <th>0</th>\n",
              "      <td>48</td>\n",
              "      <td>0</td>\n",
              "      <td>0</td>\n",
              "      <td>0.70</td>\n",
              "      <td>1</td>\n",
              "      <td>7</td>\n",
              "      <td>2.51</td>\n",
              "      <td>0</td>\n",
              "      <td>0</td>\n",
              "      <td>2</td>\n",
              "    </tr>\n",
              "    <tr>\n",
              "      <th>1</th>\n",
              "      <td>36</td>\n",
              "      <td>2</td>\n",
              "      <td>1</td>\n",
              "      <td>0.00</td>\n",
              "      <td>1</td>\n",
              "      <td>34</td>\n",
              "      <td>20.00</td>\n",
              "      <td>0</td>\n",
              "      <td>0</td>\n",
              "      <td>2</td>\n",
              "    </tr>\n",
              "    <tr>\n",
              "      <th>2</th>\n",
              "      <td>39</td>\n",
              "      <td>1</td>\n",
              "      <td>1</td>\n",
              "      <td>5.94</td>\n",
              "      <td>1</td>\n",
              "      <td>3</td>\n",
              "      <td>9.90</td>\n",
              "      <td>1</td>\n",
              "      <td>0</td>\n",
              "      <td>2</td>\n",
              "    </tr>\n",
              "    <tr>\n",
              "      <th>3</th>\n",
              "      <td>36</td>\n",
              "      <td>2</td>\n",
              "      <td>1</td>\n",
              "      <td>0.00</td>\n",
              "      <td>1</td>\n",
              "      <td>4</td>\n",
              "      <td>26.00</td>\n",
              "      <td>0</td>\n",
              "      <td>0</td>\n",
              "      <td>1</td>\n",
              "    </tr>\n",
              "    <tr>\n",
              "      <th>4</th>\n",
              "      <td>33</td>\n",
              "      <td>3</td>\n",
              "      <td>0</td>\n",
              "      <td>6.30</td>\n",
              "      <td>1</td>\n",
              "      <td>53</td>\n",
              "      <td>18.00</td>\n",
              "      <td>0</td>\n",
              "      <td>0</td>\n",
              "      <td>0</td>\n",
              "    </tr>\n",
              "  </tbody>\n",
              "</table>\n",
              "</div>\n",
              "    <div class=\"colab-df-buttons\">\n",
              "\n",
              "  <div class=\"colab-df-container\">\n",
              "    <button class=\"colab-df-convert\" onclick=\"convertToInteractive('df-f9c1c2ac-10bb-4824-af19-cfba18d1df04')\"\n",
              "            title=\"Convert this dataframe to an interactive table.\"\n",
              "            style=\"display:none;\">\n",
              "\n",
              "  <svg xmlns=\"http://www.w3.org/2000/svg\" height=\"24px\" viewBox=\"0 -960 960 960\">\n",
              "    <path d=\"M120-120v-720h720v720H120Zm60-500h600v-160H180v160Zm220 220h160v-160H400v160Zm0 220h160v-160H400v160ZM180-400h160v-160H180v160Zm440 0h160v-160H620v160ZM180-180h160v-160H180v160Zm440 0h160v-160H620v160Z\"/>\n",
              "  </svg>\n",
              "    </button>\n",
              "\n",
              "  <style>\n",
              "    .colab-df-container {\n",
              "      display:flex;\n",
              "      gap: 12px;\n",
              "    }\n",
              "\n",
              "    .colab-df-convert {\n",
              "      background-color: #E8F0FE;\n",
              "      border: none;\n",
              "      border-radius: 50%;\n",
              "      cursor: pointer;\n",
              "      display: none;\n",
              "      fill: #1967D2;\n",
              "      height: 32px;\n",
              "      padding: 0 0 0 0;\n",
              "      width: 32px;\n",
              "    }\n",
              "\n",
              "    .colab-df-convert:hover {\n",
              "      background-color: #E2EBFA;\n",
              "      box-shadow: 0px 1px 2px rgba(60, 64, 67, 0.3), 0px 1px 3px 1px rgba(60, 64, 67, 0.15);\n",
              "      fill: #174EA6;\n",
              "    }\n",
              "\n",
              "    .colab-df-buttons div {\n",
              "      margin-bottom: 4px;\n",
              "    }\n",
              "\n",
              "    [theme=dark] .colab-df-convert {\n",
              "      background-color: #3B4455;\n",
              "      fill: #D2E3FC;\n",
              "    }\n",
              "\n",
              "    [theme=dark] .colab-df-convert:hover {\n",
              "      background-color: #434B5C;\n",
              "      box-shadow: 0px 1px 3px 1px rgba(0, 0, 0, 0.15);\n",
              "      filter: drop-shadow(0px 1px 2px rgba(0, 0, 0, 0.3));\n",
              "      fill: #FFFFFF;\n",
              "    }\n",
              "  </style>\n",
              "\n",
              "    <script>\n",
              "      const buttonEl =\n",
              "        document.querySelector('#df-f9c1c2ac-10bb-4824-af19-cfba18d1df04 button.colab-df-convert');\n",
              "      buttonEl.style.display =\n",
              "        google.colab.kernel.accessAllowed ? 'block' : 'none';\n",
              "\n",
              "      async function convertToInteractive(key) {\n",
              "        const element = document.querySelector('#df-f9c1c2ac-10bb-4824-af19-cfba18d1df04');\n",
              "        const dataTable =\n",
              "          await google.colab.kernel.invokeFunction('convertToInteractive',\n",
              "                                                    [key], {});\n",
              "        if (!dataTable) return;\n",
              "\n",
              "        const docLinkHtml = 'Like what you see? Visit the ' +\n",
              "          '<a target=\"_blank\" href=https://colab.research.google.com/notebooks/data_table.ipynb>data table notebook</a>'\n",
              "          + ' to learn more about interactive tables.';\n",
              "        element.innerHTML = '';\n",
              "        dataTable['output_type'] = 'display_data';\n",
              "        await google.colab.output.renderOutput(dataTable, element);\n",
              "        const docLink = document.createElement('div');\n",
              "        docLink.innerHTML = docLinkHtml;\n",
              "        element.appendChild(docLink);\n",
              "      }\n",
              "    </script>\n",
              "  </div>\n",
              "\n",
              "\n",
              "<div id=\"df-3bc32a25-376a-4f1d-a3b1-c339a84bad55\">\n",
              "  <button class=\"colab-df-quickchart\" onclick=\"quickchart('df-3bc32a25-376a-4f1d-a3b1-c339a84bad55')\"\n",
              "            title=\"Suggest charts\"\n",
              "            style=\"display:none;\">\n",
              "\n",
              "<svg xmlns=\"http://www.w3.org/2000/svg\" height=\"24px\"viewBox=\"0 0 24 24\"\n",
              "     width=\"24px\">\n",
              "    <g>\n",
              "        <path d=\"M19 3H5c-1.1 0-2 .9-2 2v14c0 1.1.9 2 2 2h14c1.1 0 2-.9 2-2V5c0-1.1-.9-2-2-2zM9 17H7v-7h2v7zm4 0h-2V7h2v10zm4 0h-2v-4h2v4z\"/>\n",
              "    </g>\n",
              "</svg>\n",
              "  </button>\n",
              "\n",
              "<style>\n",
              "  .colab-df-quickchart {\n",
              "      --bg-color: #E8F0FE;\n",
              "      --fill-color: #1967D2;\n",
              "      --hover-bg-color: #E2EBFA;\n",
              "      --hover-fill-color: #174EA6;\n",
              "      --disabled-fill-color: #AAA;\n",
              "      --disabled-bg-color: #DDD;\n",
              "  }\n",
              "\n",
              "  [theme=dark] .colab-df-quickchart {\n",
              "      --bg-color: #3B4455;\n",
              "      --fill-color: #D2E3FC;\n",
              "      --hover-bg-color: #434B5C;\n",
              "      --hover-fill-color: #FFFFFF;\n",
              "      --disabled-bg-color: #3B4455;\n",
              "      --disabled-fill-color: #666;\n",
              "  }\n",
              "\n",
              "  .colab-df-quickchart {\n",
              "    background-color: var(--bg-color);\n",
              "    border: none;\n",
              "    border-radius: 50%;\n",
              "    cursor: pointer;\n",
              "    display: none;\n",
              "    fill: var(--fill-color);\n",
              "    height: 32px;\n",
              "    padding: 0;\n",
              "    width: 32px;\n",
              "  }\n",
              "\n",
              "  .colab-df-quickchart:hover {\n",
              "    background-color: var(--hover-bg-color);\n",
              "    box-shadow: 0 1px 2px rgba(60, 64, 67, 0.3), 0 1px 3px 1px rgba(60, 64, 67, 0.15);\n",
              "    fill: var(--button-hover-fill-color);\n",
              "  }\n",
              "\n",
              "  .colab-df-quickchart-complete:disabled,\n",
              "  .colab-df-quickchart-complete:disabled:hover {\n",
              "    background-color: var(--disabled-bg-color);\n",
              "    fill: var(--disabled-fill-color);\n",
              "    box-shadow: none;\n",
              "  }\n",
              "\n",
              "  .colab-df-spinner {\n",
              "    border: 2px solid var(--fill-color);\n",
              "    border-color: transparent;\n",
              "    border-bottom-color: var(--fill-color);\n",
              "    animation:\n",
              "      spin 1s steps(1) infinite;\n",
              "  }\n",
              "\n",
              "  @keyframes spin {\n",
              "    0% {\n",
              "      border-color: transparent;\n",
              "      border-bottom-color: var(--fill-color);\n",
              "      border-left-color: var(--fill-color);\n",
              "    }\n",
              "    20% {\n",
              "      border-color: transparent;\n",
              "      border-left-color: var(--fill-color);\n",
              "      border-top-color: var(--fill-color);\n",
              "    }\n",
              "    30% {\n",
              "      border-color: transparent;\n",
              "      border-left-color: var(--fill-color);\n",
              "      border-top-color: var(--fill-color);\n",
              "      border-right-color: var(--fill-color);\n",
              "    }\n",
              "    40% {\n",
              "      border-color: transparent;\n",
              "      border-right-color: var(--fill-color);\n",
              "      border-top-color: var(--fill-color);\n",
              "    }\n",
              "    60% {\n",
              "      border-color: transparent;\n",
              "      border-right-color: var(--fill-color);\n",
              "    }\n",
              "    80% {\n",
              "      border-color: transparent;\n",
              "      border-right-color: var(--fill-color);\n",
              "      border-bottom-color: var(--fill-color);\n",
              "    }\n",
              "    90% {\n",
              "      border-color: transparent;\n",
              "      border-bottom-color: var(--fill-color);\n",
              "    }\n",
              "  }\n",
              "</style>\n",
              "\n",
              "  <script>\n",
              "    async function quickchart(key) {\n",
              "      const quickchartButtonEl =\n",
              "        document.querySelector('#' + key + ' button');\n",
              "      quickchartButtonEl.disabled = true;  // To prevent multiple clicks.\n",
              "      quickchartButtonEl.classList.add('colab-df-spinner');\n",
              "      try {\n",
              "        const charts = await google.colab.kernel.invokeFunction(\n",
              "            'suggestCharts', [key], {});\n",
              "      } catch (error) {\n",
              "        console.error('Error during call to suggestCharts:', error);\n",
              "      }\n",
              "      quickchartButtonEl.classList.remove('colab-df-spinner');\n",
              "      quickchartButtonEl.classList.add('colab-df-quickchart-complete');\n",
              "    }\n",
              "    (() => {\n",
              "      let quickchartButtonEl =\n",
              "        document.querySelector('#df-3bc32a25-376a-4f1d-a3b1-c339a84bad55 button');\n",
              "      quickchartButtonEl.style.display =\n",
              "        google.colab.kernel.accessAllowed ? 'block' : 'none';\n",
              "    })();\n",
              "  </script>\n",
              "</div>\n",
              "\n",
              "    </div>\n",
              "  </div>\n"
            ],
            "application/vnd.google.colaboratory.intrinsic+json": {
              "type": "dataframe",
              "variable_name": "X",
              "summary": "{\n  \"name\": \"X\",\n  \"rows\": 3000,\n  \"fields\": [\n    {\n      \"column\": \"Age\",\n      \"properties\": {\n        \"dtype\": \"number\",\n        \"std\": 10,\n        \"min\": 8,\n        \"max\": 84,\n        \"num_unique_values\": 70,\n        \"samples\": [\n          38,\n          48,\n          49\n        ],\n        \"semantic_type\": \"\",\n        \"description\": \"\"\n      }\n    },\n    {\n      \"column\": \"Agency_Code\",\n      \"properties\": {\n        \"dtype\": \"int8\",\n        \"num_unique_values\": 4,\n        \"samples\": [\n          2,\n          3,\n          0\n        ],\n        \"semantic_type\": \"\",\n        \"description\": \"\"\n      }\n    },\n    {\n      \"column\": \"Type\",\n      \"properties\": {\n        \"dtype\": \"int8\",\n        \"num_unique_values\": 2,\n        \"samples\": [\n          1,\n          0\n        ],\n        \"semantic_type\": \"\",\n        \"description\": \"\"\n      }\n    },\n    {\n      \"column\": \"Commision\",\n      \"properties\": {\n        \"dtype\": \"number\",\n        \"std\": 25.481454506625926,\n        \"min\": 0.0,\n        \"max\": 210.21,\n        \"num_unique_values\": 324,\n        \"samples\": [\n          24.86,\n          18.85\n        ],\n        \"semantic_type\": \"\",\n        \"description\": \"\"\n      }\n    },\n    {\n      \"column\": \"Channel\",\n      \"properties\": {\n        \"dtype\": \"int8\",\n        \"num_unique_values\": 2,\n        \"samples\": [\n          0,\n          1\n        ],\n        \"semantic_type\": \"\",\n        \"description\": \"\"\n      }\n    },\n    {\n      \"column\": \"Duration\",\n      \"properties\": {\n        \"dtype\": \"number\",\n        \"std\": 134,\n        \"min\": -1,\n        \"max\": 4580,\n        \"num_unique_values\": 257,\n        \"samples\": [\n          289,\n          118\n        ],\n        \"semantic_type\": \"\",\n        \"description\": \"\"\n      }\n    },\n    {\n      \"column\": \"Sales\",\n      \"properties\": {\n        \"dtype\": \"number\",\n        \"std\": 70.73395353143037,\n        \"min\": 0.0,\n        \"max\": 539.0,\n        \"num_unique_values\": 380,\n        \"samples\": [\n          188.0,\n          181.0\n        ],\n        \"semantic_type\": \"\",\n        \"description\": \"\"\n      }\n    },\n    {\n      \"column\": \"Destination\",\n      \"properties\": {\n        \"dtype\": \"int8\",\n        \"num_unique_values\": 3,\n        \"samples\": [\n          0,\n          1\n        ],\n        \"semantic_type\": \"\",\n        \"description\": \"\"\n      }\n    },\n    {\n      \"column\": \"Claimed\",\n      \"properties\": {\n        \"dtype\": \"int8\",\n        \"num_unique_values\": 2,\n        \"samples\": [\n          1,\n          0\n        ],\n        \"semantic_type\": \"\",\n        \"description\": \"\"\n      }\n    },\n    {\n      \"column\": \"Product_Name\",\n      \"properties\": {\n        \"dtype\": \"int8\",\n        \"num_unique_values\": 5,\n        \"samples\": [\n          1,\n          3\n        ],\n        \"semantic_type\": \"\",\n        \"description\": \"\"\n      }\n    }\n  ]\n}"
            }
          },
          "metadata": {},
          "execution_count": 16
        }
      ],
      "source": [
        "X = ld_df.drop(\"Claimed_Amount\", axis=1)\n",
        "\n",
        "\n",
        "\n",
        "y = ld_df.pop(\"Claimed_Amount\")\n",
        "\n",
        "X.head()\n"
      ]
    },
    {
      "cell_type": "code",
      "execution_count": null,
      "metadata": {
        "id": "a1882109"
      },
      "outputs": [],
      "source": [
        "from sklearn.model_selection import train_test_split\n",
        "\n",
        "X_train, X_test,y_train, y_test= train_test_split(X, y, test_size=.30, random_state=1)\n"
      ]
    },
    {
      "cell_type": "code",
      "execution_count": null,
      "metadata": {
        "id": "d2cc4c4a",
        "colab": {
          "base_uri": "https://localhost:8080/"
        },
        "outputId": "9107ec88-c2e0-4a2c-eafe-9862d3db2809"
      },
      "outputs": [
        {
          "output_type": "stream",
          "name": "stdout",
          "text": [
            "X_train (2100, 10)\n",
            "X_test (900, 10)\n",
            "Total Obs 3000\n"
          ]
        }
      ],
      "source": [
        "print('X_train',X_train.shape)\n",
        "print('X_test',X_test.shape)\n",
        "\n",
        "\n",
        "print('Total Obs',2100+900)"
      ]
    },
    {
      "cell_type": "code",
      "execution_count": null,
      "metadata": {
        "id": "e6ad5be4"
      },
      "outputs": [],
      "source": [
        "from sklearn.preprocessing import StandardScaler"
      ]
    },
    {
      "cell_type": "code",
      "execution_count": null,
      "metadata": {
        "id": "753dd383"
      },
      "outputs": [],
      "source": [
        "sc = StandardScaler()"
      ]
    },
    {
      "cell_type": "code",
      "execution_count": null,
      "metadata": {
        "id": "dfa5cca1"
      },
      "outputs": [],
      "source": [
        "x_train = sc.fit_transform(X_train)"
      ]
    },
    {
      "cell_type": "code",
      "execution_count": null,
      "metadata": {
        "id": "cfc0632c",
        "colab": {
          "base_uri": "https://localhost:8080/"
        },
        "outputId": "05d80442-d0ee-4dec-cd9b-2ebf7da3b59e"
      },
      "outputs": [
        {
          "output_type": "execute_result",
          "data": {
            "text/plain": [
              "array([[-0.19192502,  0.72815922,  0.80520286, ..., -0.43926017,\n",
              "        -0.65391152,  0.24642411],\n",
              "       [-0.19192502,  0.72815922,  0.80520286, ...,  1.27851702,\n",
              "        -0.65391152,  0.24642411],\n",
              "       [-0.97188154, -1.28518425, -1.24192306, ..., -0.43926017,\n",
              "         1.52925889,  1.83381865],\n",
              "       ...,\n",
              "       [-0.19192502,  0.72815922,  0.80520286, ..., -0.43926017,\n",
              "        -0.65391152,  0.24642411],\n",
              "       [ 0.58803151,  1.73483096, -1.24192306, ..., -0.43926017,\n",
              "        -0.65391152, -1.34097044],\n",
              "       [-0.19192502, -1.28518425, -1.24192306, ..., -0.43926017,\n",
              "        -0.65391152,  1.83381865]])"
            ]
          },
          "metadata": {},
          "execution_count": 22
        }
      ],
      "source": [
        "x_train"
      ]
    },
    {
      "cell_type": "code",
      "execution_count": null,
      "metadata": {
        "id": "d415c7ab"
      },
      "outputs": [],
      "source": [
        "# Apply the transformation on the test data\n",
        "x_test = sc.transform(X_test)"
      ]
    },
    {
      "cell_type": "code",
      "execution_count": null,
      "metadata": {
        "id": "bbeb9c64",
        "colab": {
          "base_uri": "https://localhost:8080/"
        },
        "outputId": "51fae70f-a9e6-4e0c-ec90-e2977e09fd4b"
      },
      "outputs": [
        {
          "output_type": "execute_result",
          "data": {
            "text/plain": [
              "array([[-1.55684893, -0.27851251,  0.80520286, ...,  2.99629421,\n",
              "        -0.65391152, -1.34097044],\n",
              "       [ 1.66047173, -1.28518425, -1.24192306, ..., -0.43926017,\n",
              "         1.52925889, -1.34097044],\n",
              "       [-0.87438698, -1.28518425, -1.24192306, ..., -0.43926017,\n",
              "         1.52925889, -1.34097044],\n",
              "       ...,\n",
              "       [-0.19192502, -1.28518425, -1.24192306, ..., -0.43926017,\n",
              "         1.52925889, -1.34097044],\n",
              "       [ 1.07550434,  1.73483096, -1.24192306, ..., -0.43926017,\n",
              "        -0.65391152, -1.34097044],\n",
              "       [-0.28941958,  1.73483096, -1.24192306, ..., -0.43926017,\n",
              "        -0.65391152, -1.34097044]])"
            ]
          },
          "metadata": {},
          "execution_count": 24
        }
      ],
      "source": [
        "x_test"
      ]
    },
    {
      "cell_type": "markdown",
      "source": [
        "**Linear Regression**"
      ],
      "metadata": {
        "id": "an5ICKFDkPX8"
      }
    },
    {
      "cell_type": "code",
      "source": [
        "from sklearn.linear_model import LinearRegression\n",
        "lgs = LinearRegression()"
      ],
      "metadata": {
        "id": "nu6NRZRL7ODc"
      },
      "execution_count": null,
      "outputs": []
    },
    {
      "cell_type": "code",
      "source": [
        "lgs.fit(x_train, y_train)"
      ],
      "metadata": {
        "id": "D9cPShBs7old",
        "colab": {
          "base_uri": "https://localhost:8080/"
        },
        "outputId": "c363ee3e-c076-4202-9776-b7305cd0654a"
      },
      "execution_count": null,
      "outputs": [
        {
          "output_type": "execute_result",
          "data": {
            "text/plain": [
              "LinearRegression()"
            ],
            "text/html": [
              "<style>#sk-container-id-1 {color: black;background-color: white;}#sk-container-id-1 pre{padding: 0;}#sk-container-id-1 div.sk-toggleable {background-color: white;}#sk-container-id-1 label.sk-toggleable__label {cursor: pointer;display: block;width: 100%;margin-bottom: 0;padding: 0.3em;box-sizing: border-box;text-align: center;}#sk-container-id-1 label.sk-toggleable__label-arrow:before {content: \"▸\";float: left;margin-right: 0.25em;color: #696969;}#sk-container-id-1 label.sk-toggleable__label-arrow:hover:before {color: black;}#sk-container-id-1 div.sk-estimator:hover label.sk-toggleable__label-arrow:before {color: black;}#sk-container-id-1 div.sk-toggleable__content {max-height: 0;max-width: 0;overflow: hidden;text-align: left;background-color: #f0f8ff;}#sk-container-id-1 div.sk-toggleable__content pre {margin: 0.2em;color: black;border-radius: 0.25em;background-color: #f0f8ff;}#sk-container-id-1 input.sk-toggleable__control:checked~div.sk-toggleable__content {max-height: 200px;max-width: 100%;overflow: auto;}#sk-container-id-1 input.sk-toggleable__control:checked~label.sk-toggleable__label-arrow:before {content: \"▾\";}#sk-container-id-1 div.sk-estimator input.sk-toggleable__control:checked~label.sk-toggleable__label {background-color: #d4ebff;}#sk-container-id-1 div.sk-label input.sk-toggleable__control:checked~label.sk-toggleable__label {background-color: #d4ebff;}#sk-container-id-1 input.sk-hidden--visually {border: 0;clip: rect(1px 1px 1px 1px);clip: rect(1px, 1px, 1px, 1px);height: 1px;margin: -1px;overflow: hidden;padding: 0;position: absolute;width: 1px;}#sk-container-id-1 div.sk-estimator {font-family: monospace;background-color: #f0f8ff;border: 1px dotted black;border-radius: 0.25em;box-sizing: border-box;margin-bottom: 0.5em;}#sk-container-id-1 div.sk-estimator:hover {background-color: #d4ebff;}#sk-container-id-1 div.sk-parallel-item::after {content: \"\";width: 100%;border-bottom: 1px solid gray;flex-grow: 1;}#sk-container-id-1 div.sk-label:hover label.sk-toggleable__label {background-color: #d4ebff;}#sk-container-id-1 div.sk-serial::before {content: \"\";position: absolute;border-left: 1px solid gray;box-sizing: border-box;top: 0;bottom: 0;left: 50%;z-index: 0;}#sk-container-id-1 div.sk-serial {display: flex;flex-direction: column;align-items: center;background-color: white;padding-right: 0.2em;padding-left: 0.2em;position: relative;}#sk-container-id-1 div.sk-item {position: relative;z-index: 1;}#sk-container-id-1 div.sk-parallel {display: flex;align-items: stretch;justify-content: center;background-color: white;position: relative;}#sk-container-id-1 div.sk-item::before, #sk-container-id-1 div.sk-parallel-item::before {content: \"\";position: absolute;border-left: 1px solid gray;box-sizing: border-box;top: 0;bottom: 0;left: 50%;z-index: -1;}#sk-container-id-1 div.sk-parallel-item {display: flex;flex-direction: column;z-index: 1;position: relative;background-color: white;}#sk-container-id-1 div.sk-parallel-item:first-child::after {align-self: flex-end;width: 50%;}#sk-container-id-1 div.sk-parallel-item:last-child::after {align-self: flex-start;width: 50%;}#sk-container-id-1 div.sk-parallel-item:only-child::after {width: 0;}#sk-container-id-1 div.sk-dashed-wrapped {border: 1px dashed gray;margin: 0 0.4em 0.5em 0.4em;box-sizing: border-box;padding-bottom: 0.4em;background-color: white;}#sk-container-id-1 div.sk-label label {font-family: monospace;font-weight: bold;display: inline-block;line-height: 1.2em;}#sk-container-id-1 div.sk-label-container {text-align: center;}#sk-container-id-1 div.sk-container {/* jupyter's `normalize.less` sets `[hidden] { display: none; }` but bootstrap.min.css set `[hidden] { display: none !important; }` so we also need the `!important` here to be able to override the default hidden behavior on the sphinx rendered scikit-learn.org. See: https://github.com/scikit-learn/scikit-learn/issues/21755 */display: inline-block !important;position: relative;}#sk-container-id-1 div.sk-text-repr-fallback {display: none;}</style><div id=\"sk-container-id-1\" class=\"sk-top-container\"><div class=\"sk-text-repr-fallback\"><pre>LinearRegression()</pre><b>In a Jupyter environment, please rerun this cell to show the HTML representation or trust the notebook. <br />On GitHub, the HTML representation is unable to render, please try loading this page with nbviewer.org.</b></div><div class=\"sk-container\" hidden><div class=\"sk-item\"><div class=\"sk-estimator sk-toggleable\"><input class=\"sk-toggleable__control sk-hidden--visually\" id=\"sk-estimator-id-1\" type=\"checkbox\" checked><label for=\"sk-estimator-id-1\" class=\"sk-toggleable__label sk-toggleable__label-arrow\">LinearRegression</label><div class=\"sk-toggleable__content\"><pre>LinearRegression()</pre></div></div></div></div></div>"
            ]
          },
          "metadata": {},
          "execution_count": 26
        }
      ]
    },
    {
      "cell_type": "code",
      "source": [
        "y_pred1 = lgs.predict(x_test)"
      ],
      "metadata": {
        "id": "-oRsW_sw8CAQ"
      },
      "execution_count": null,
      "outputs": []
    },
    {
      "cell_type": "code",
      "source": [
        "from sklearn.metrics import r2_score\n",
        "from sklearn import metrics\n",
        "from sklearn.metrics import mean_absolute_error\n",
        "from sklearn.metrics import mean_squared_error\n",
        "r2 = r2_score(y_test, y_pred1)\n",
        "print('r2 score =', r2)\n",
        "\n",
        "mse = mean_squared_error(y_test, y_pred1)\n",
        "print(\"Mean Square Error = \",mse)\n",
        "\n",
        "mae = metrics.mean_absolute_error(y_test, y_pred1)\n",
        "print(\"Mean Absolute Error = \", mae)"
      ],
      "metadata": {
        "id": "tVZTmPRkhXoK",
        "colab": {
          "base_uri": "https://localhost:8080/"
        },
        "outputId": "f387185a-0598-4952-d8e6-9933ca3208f3"
      },
      "execution_count": null,
      "outputs": [
        {
          "output_type": "stream",
          "name": "stdout",
          "text": [
            "r2 score = 0.9876798942246776\n",
            "Mean Square Error =  62994.61146949523\n",
            "Mean Absolute Error =  157.63771176074613\n"
          ]
        }
      ]
    },
    {
      "cell_type": "markdown",
      "source": [
        "**Ridge Regression**"
      ],
      "metadata": {
        "id": "caTOwDbrkeIi"
      }
    },
    {
      "cell_type": "code",
      "source": [
        "\n",
        "from sklearn.linear_model import Ridge\n",
        "from sklearn.metrics import mean_squared_error, r2_score\n",
        "from sklearn.metrics import mean_absolute_error\n",
        "\n",
        "X_train, X_test, y_train, y_test = train_test_split(X, y, test_size=0.30, random_state=1)\n",
        "\n",
        "ridge_regressor = Ridge(alpha=10)\n",
        "ridge_regressor.fit(x_train, y_train)\n",
        "\n",
        "y_pred2 = ridge_regressor.predict(x_test)\n",
        "\n",
        "mse = mean_squared_error(y_test, y_pred2)\n",
        "r2 = r2_score(y_test, y_pred2)\n",
        "\n",
        "\n",
        "mae = metrics.mean_absolute_error(y_test, y_pred2)\n",
        "\n",
        "print(\"Mean Absolute Error = \", mae)\n",
        "print(f\"Mean Squared Error: {mse}\")\n",
        "print(f\"R^2 Score: {r2}\")\n",
        "\n",
        "\n"
      ],
      "metadata": {
        "id": "7wJrQkA-CILd",
        "colab": {
          "base_uri": "https://localhost:8080/"
        },
        "outputId": "e58d75a8-4b35-44ea-eac7-5724fc375974"
      },
      "execution_count": null,
      "outputs": [
        {
          "output_type": "stream",
          "name": "stdout",
          "text": [
            "Mean Absolute Error =  156.7126930999803\n",
            "Mean Squared Error: 62543.717796621306\n",
            "R^2 Score: 0.9877680772869054\n"
          ]
        }
      ]
    },
    {
      "cell_type": "code",
      "source": [
        "from sklearn.model_selection import GridSearchCV, train_test_split\n",
        "from sklearn.linear_model import Ridge\n",
        "from sklearn.metrics import mean_squared_error, r2_score, mean_absolute_error\n",
        "import numpy as np\n",
        "\n",
        "\n",
        "X_train, X_test, y_train, y_test = train_test_split(X, y, test_size=0.30, random_state=1)\n",
        "\n",
        "\n",
        "alpha_values = [0.1, 1, 10, 100]\n",
        "\n",
        "\n",
        "ridge_reg = Ridge()\n",
        "\n",
        "\n",
        "param_grid = {'alpha': alpha_values}\n",
        "grid_search = GridSearchCV(estimator=ridge_reg, param_grid=param_grid,\n",
        "                           scoring='neg_mean_squared_error', cv=5, verbose=1, n_jobs=-1)\n",
        "\n",
        "\n",
        "grid_search.fit(X_train, y_train)\n",
        "\n",
        "\n",
        "print(\"Best alpha parameter:\", grid_search.best_params_)\n",
        "print(\"Best CV score:\", grid_search.best_score_)\n",
        "\n",
        "\n",
        "best_ridge = grid_search.best_estimator_\n",
        "y_pred = best_ridge.predict(X_test)\n",
        "\n",
        "mse = mean_squared_error(y_test, y_pred)\n",
        "r2 = r2_score(y_test, y_pred)\n",
        "mae = mean_absolute_error(y_test, y_pred)\n",
        "\n",
        "print(\"Mean Absolute Error (MAE):\", mae)\n",
        "print(\"Mean Squared Error (MSE):\", mse)\n",
        "print(\"R^2 Score:\", r2)\n"
      ],
      "metadata": {
        "id": "spGVxNgSzM6w",
        "colab": {
          "base_uri": "https://localhost:8080/"
        },
        "outputId": "c7713577-4482-4ca4-aefd-7f713963ae26"
      },
      "execution_count": null,
      "outputs": [
        {
          "output_type": "stream",
          "name": "stdout",
          "text": [
            "Fitting 5 folds for each of 4 candidates, totalling 20 fits\n",
            "Best alpha parameter: {'alpha': 0.1}\n",
            "Best CV score: -56365.278059947574\n",
            "Mean Absolute Error (MAE): 157.59035840277903\n",
            "Mean Squared Error (MSE): 62965.42748878395\n",
            "R^2 Score: 0.9876856018514242\n"
          ]
        }
      ]
    },
    {
      "cell_type": "markdown",
      "source": [
        "**Lasso Regression**"
      ],
      "metadata": {
        "id": "Yx00T3S4kprW"
      }
    },
    {
      "cell_type": "code",
      "source": [
        "from sklearn.linear_model import Lasso\n",
        "from sklearn.metrics import mean_squared_error, r2_score, mean_absolute_error\n",
        "\n",
        "lasso_reg = Lasso(alpha=0.1)\n",
        "lasso_reg.fit(X_train, y_train)\n",
        "y_pred_lasso = lasso_reg.predict(X_test)\n",
        "\n",
        "mse_lasso = mean_squared_error(y_test, y_pred_lasso)\n",
        "r2_lasso = r2_score(y_test, y_pred_lasso)\n",
        "mae_lasso = mean_absolute_error(y_test, y_pred_lasso)\n",
        "\n",
        "print(\"Mean Absolute Error (MAE):\", mae_lasso)\n",
        "print(\"Mean Squared Error (MSE):\", mse_lasso)\n",
        "print(\"R^2 Score:\", r2_lasso)\n"
      ],
      "metadata": {
        "id": "BstXyWV2vfmp",
        "colab": {
          "base_uri": "https://localhost:8080/"
        },
        "outputId": "9ebe362e-1746-4804-e431-dd9ff1de25f0"
      },
      "execution_count": null,
      "outputs": [
        {
          "output_type": "stream",
          "name": "stdout",
          "text": [
            "Mean Absolute Error (MAE): 157.60929666348417\n",
            "Mean Squared Error (MSE): 62988.031820402066\n",
            "R^2 Score: 0.9876811810327221\n"
          ]
        }
      ]
    },
    {
      "cell_type": "code",
      "source": [
        "import numpy as np\n",
        "import pandas as pd\n",
        "from sklearn.linear_model import Lasso\n",
        "from sklearn.model_selection import GridSearchCV, train_test_split\n",
        "from sklearn.metrics import mean_squared_error, r2_score, mean_absolute_error\n",
        "\n",
        "\n",
        "\n",
        "X_train, X_test, y_train, y_test = train_test_split(X, y, test_size=0.30, random_state=1)\n",
        "\n",
        "param_grid = {'alpha': [0.01, 0.1, 1, 10, 100]}\n",
        "\n",
        "lasso = Lasso()\n",
        "\n",
        "grid_search = GridSearchCV(estimator=lasso, param_grid=param_grid, cv=5, scoring='neg_mean_squared_error')\n",
        "\n",
        "grid_search.fit(X_train, y_train)\n",
        "\n",
        "best_lasso = grid_search.best_estimator_\n",
        "\n",
        "y_pred_lasso = best_lasso.predict(X_test)\n",
        "\n",
        "mse_lasso = mean_squared_error(y_test, y_pred_lasso)\n",
        "r2_lasso = r2_score(y_test, y_pred_lasso)\n",
        "mae_lasso = mean_absolute_error(y_test, y_pred_lasso)\n",
        "\n",
        "print(\"Best alpha: \", grid_search.best_params_['alpha'])\n",
        "print(\"Mean Absolute Error (MAE):\", mae_lasso)\n",
        "print(\"Mean Squared Error (MSE):\", mse_lasso)\n",
        "print(\"R^2 Score:\", r2_lasso)\n"
      ],
      "metadata": {
        "id": "d5IvvPLHfVJE",
        "colab": {
          "base_uri": "https://localhost:8080/"
        },
        "outputId": "73b00131-e58f-482b-bcc0-5a61330314ce"
      },
      "execution_count": null,
      "outputs": [
        {
          "output_type": "stream",
          "name": "stdout",
          "text": [
            "Best alpha:  0.01\n",
            "Mean Absolute Error (MAE): 157.63486930603983\n",
            "Mean Squared Error (MSE): 62993.86579104595\n",
            "R^2 Score: 0.9876800400599667\n"
          ]
        }
      ]
    },
    {
      "cell_type": "markdown",
      "source": [
        "**Random Forest Regressor**"
      ],
      "metadata": {
        "id": "vLjQZHslkzrw"
      }
    },
    {
      "cell_type": "code",
      "source": [
        "from sklearn.ensemble import RandomForestRegressor\n",
        "rfg3 = RandomForestRegressor()\n",
        "rfg3.fit(X_train, y_train)\n",
        "y_pred3 = rfg3.predict(x_test)\n",
        "\n",
        "mse = mean_squared_error(y_test, y_pred3)\n",
        "r2 = r2_score(y_test, y_pred3)\n",
        "\n",
        "\n",
        "mae = metrics.mean_absolute_error(y_test, y_pred3)\n",
        "\n",
        "print(\"Mean Absolute Error = \", mae)\n",
        "print(f\"Mean Squared Error: {mse}\")\n",
        "print(f\"R^2 Score: {r2}\")\n",
        "\n",
        "\n"
      ],
      "metadata": {
        "id": "YD0j8V92rDwM",
        "colab": {
          "base_uri": "https://localhost:8080/"
        },
        "outputId": "3e5b783b-b91e-42cc-b9aa-8b5c7760b70c"
      },
      "execution_count": null,
      "outputs": [
        {
          "output_type": "stream",
          "name": "stdout",
          "text": [
            "Mean Absolute Error =  212.75881111111113\n",
            "Mean Squared Error: 225175.44184722225\n",
            "R^2 Score: 0.9559615466013929\n"
          ]
        }
      ]
    },
    {
      "cell_type": "markdown",
      "source": [
        "**MLPRegressor**"
      ],
      "metadata": {
        "id": "edkYsNdJlHqA"
      }
    },
    {
      "cell_type": "code",
      "source": [
        "from sklearn.neural_network import MLPRegressor\n",
        "from sklearn.metrics import mean_squared_error, r2_score, mean_absolute_error\n",
        "from sklearn.model_selection import train_test_split\n",
        "\n",
        "X_train, X_test, y_train, y_test = train_test_split(X, y, test_size=0.30, random_state=1)\n",
        "\n",
        "mlp_regressor = MLPRegressor(hidden_layer_sizes=(100,), alpha=0.0001, random_state=1, max_iter=1000)\n",
        "mlp_regressor.fit(X_train, y_train)\n",
        "y_pred_mlp = mlp_regressor.predict(X_test)\n",
        "\n",
        "mse_mlp = mean_squared_error(y_test, y_pred_mlp)\n",
        "r2_mlp = r2_score(y_test, y_pred_mlp)\n",
        "mae_mlp = mean_absolute_error(y_test, y_pred_mlp)\n",
        "\n",
        "print(\"Mean Absolute Error (MAE):\", mae_mlp)\n",
        "print(\"Mean Squared Error (MSE):\", mse_mlp)\n",
        "print(\"R^2 Score:\", r2_mlp)\n"
      ],
      "metadata": {
        "id": "D09bQvvm247s",
        "colab": {
          "base_uri": "https://localhost:8080/"
        },
        "outputId": "9c6172a7-5e84-4cf3-e8ce-33a8a018866d"
      },
      "execution_count": null,
      "outputs": [
        {
          "output_type": "stream",
          "name": "stdout",
          "text": [
            "Mean Absolute Error (MAE): 242.64817812945887\n",
            "Mean Squared Error (MSE): 141621.14701622733\n",
            "R^2 Score: 0.9723025911175387\n"
          ]
        }
      ]
    },
    {
      "cell_type": "code",
      "source": [
        "X.info()"
      ],
      "metadata": {
        "id": "svLeEnWLXK2z",
        "colab": {
          "base_uri": "https://localhost:8080/"
        },
        "outputId": "4fe8fe07-19e5-4ee2-e688-39a6e5c10c8c"
      },
      "execution_count": null,
      "outputs": [
        {
          "output_type": "stream",
          "name": "stdout",
          "text": [
            "<class 'pandas.core.frame.DataFrame'>\n",
            "RangeIndex: 3000 entries, 0 to 2999\n",
            "Data columns (total 10 columns):\n",
            " #   Column        Non-Null Count  Dtype  \n",
            "---  ------        --------------  -----  \n",
            " 0   Age           3000 non-null   int64  \n",
            " 1   Agency_Code   3000 non-null   int8   \n",
            " 2   Type          3000 non-null   int8   \n",
            " 3   Commision     3000 non-null   float64\n",
            " 4   Channel       3000 non-null   int8   \n",
            " 5   Duration      3000 non-null   int64  \n",
            " 6   Sales         3000 non-null   float64\n",
            " 7   Destination   3000 non-null   int8   \n",
            " 8   Claimed       3000 non-null   int8   \n",
            " 9   Product_Name  3000 non-null   int8   \n",
            "dtypes: float64(2), int64(2), int8(6)\n",
            "memory usage: 111.5 KB\n"
          ]
        }
      ]
    },
    {
      "cell_type": "code",
      "source": [
        "new_data = np.array([[35, 1, 1, 4.6, 1, 18, 2.51, 0, 1,1]])\n",
        "\n",
        "\n",
        "predicted_claimed_amount = best_ridge.predict(new_data)\n",
        "\n",
        "print(\"Predicted Claimed Amount:\", predicted_claimed_amount)"
      ],
      "metadata": {
        "id": "ve1P5gLr9ZcM",
        "colab": {
          "base_uri": "https://localhost:8080/"
        },
        "outputId": "09f87077-1e58-4b3f-ad04-612961e387f2"
      },
      "execution_count": null,
      "outputs": [
        {
          "output_type": "stream",
          "name": "stdout",
          "text": [
            "Predicted Claimed Amount: [4547.14744666]\n"
          ]
        }
      ]
    }
  ]
}