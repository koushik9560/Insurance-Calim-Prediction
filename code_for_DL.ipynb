{
  "cells": [
    {
      "cell_type": "code",
      "execution_count": null,
      "id": "d40ca080",
      "metadata": {
        "id": "d40ca080"
      },
      "outputs": [],
      "source": [
        "import pandas as pd\n",
        "import numpy as np\n",
        "import matplotlib.pyplot as plt\n",
        "import seaborn as sns\n",
        "from sklearn.neural_network import MLPClassifier\n",
        "import warnings\n",
        "warnings.filterwarnings('ignore')\n",
        "plt.style.use('fivethirtyeight')"
      ]
    },
    {
      "cell_type": "code",
      "execution_count": null,
      "id": "a0fd3019",
      "metadata": {
        "id": "a0fd3019"
      },
      "outputs": [],
      "source": [
        "ins_df=pd.read_csv(\"/content/insurance_data.csv\")"
      ]
    },
    {
      "cell_type": "code",
      "execution_count": null,
      "id": "55140455",
      "metadata": {
        "colab": {
          "base_uri": "https://localhost:8080/",
          "height": 275
        },
        "id": "55140455",
        "outputId": "742dcbbd-12d8-4960-a2bf-0e98146ae50f"
      },
      "outputs": [
        {
          "output_type": "execute_result",
          "data": {
            "text/plain": [
              "   Age Agency_Code           Type Claimed  Commision Channel  Duration  Sales  \\\n",
              "0   48         C2B       Airlines      No       0.70  Online         7   2.51   \n",
              "1   36         EPX  Travel Agency      No       0.00  Online        34  20.00   \n",
              "2   39         CWT  Travel Agency      No       5.94  Online         3   9.90   \n",
              "3   36         EPX  Travel Agency      No       0.00  Online         4  26.00   \n",
              "4   33         JZI       Airlines      No       6.30  Online        53  18.00   \n",
              "\n",
              "        Product Name Destination  \n",
              "0    Customised Plan        ASIA  \n",
              "1    Customised Plan        ASIA  \n",
              "2    Customised Plan    Americas  \n",
              "3  Cancellation Plan        ASIA  \n",
              "4        Bronze Plan        ASIA  "
            ],
            "text/html": [
              "\n",
              "  <div id=\"df-0ec30b53-a7d5-4760-8d10-88b869c6b777\" class=\"colab-df-container\">\n",
              "    <div>\n",
              "<style scoped>\n",
              "    .dataframe tbody tr th:only-of-type {\n",
              "        vertical-align: middle;\n",
              "    }\n",
              "\n",
              "    .dataframe tbody tr th {\n",
              "        vertical-align: top;\n",
              "    }\n",
              "\n",
              "    .dataframe thead th {\n",
              "        text-align: right;\n",
              "    }\n",
              "</style>\n",
              "<table border=\"1\" class=\"dataframe\">\n",
              "  <thead>\n",
              "    <tr style=\"text-align: right;\">\n",
              "      <th></th>\n",
              "      <th>Age</th>\n",
              "      <th>Agency_Code</th>\n",
              "      <th>Type</th>\n",
              "      <th>Claimed</th>\n",
              "      <th>Commision</th>\n",
              "      <th>Channel</th>\n",
              "      <th>Duration</th>\n",
              "      <th>Sales</th>\n",
              "      <th>Product Name</th>\n",
              "      <th>Destination</th>\n",
              "    </tr>\n",
              "  </thead>\n",
              "  <tbody>\n",
              "    <tr>\n",
              "      <th>0</th>\n",
              "      <td>48</td>\n",
              "      <td>C2B</td>\n",
              "      <td>Airlines</td>\n",
              "      <td>No</td>\n",
              "      <td>0.70</td>\n",
              "      <td>Online</td>\n",
              "      <td>7</td>\n",
              "      <td>2.51</td>\n",
              "      <td>Customised Plan</td>\n",
              "      <td>ASIA</td>\n",
              "    </tr>\n",
              "    <tr>\n",
              "      <th>1</th>\n",
              "      <td>36</td>\n",
              "      <td>EPX</td>\n",
              "      <td>Travel Agency</td>\n",
              "      <td>No</td>\n",
              "      <td>0.00</td>\n",
              "      <td>Online</td>\n",
              "      <td>34</td>\n",
              "      <td>20.00</td>\n",
              "      <td>Customised Plan</td>\n",
              "      <td>ASIA</td>\n",
              "    </tr>\n",
              "    <tr>\n",
              "      <th>2</th>\n",
              "      <td>39</td>\n",
              "      <td>CWT</td>\n",
              "      <td>Travel Agency</td>\n",
              "      <td>No</td>\n",
              "      <td>5.94</td>\n",
              "      <td>Online</td>\n",
              "      <td>3</td>\n",
              "      <td>9.90</td>\n",
              "      <td>Customised Plan</td>\n",
              "      <td>Americas</td>\n",
              "    </tr>\n",
              "    <tr>\n",
              "      <th>3</th>\n",
              "      <td>36</td>\n",
              "      <td>EPX</td>\n",
              "      <td>Travel Agency</td>\n",
              "      <td>No</td>\n",
              "      <td>0.00</td>\n",
              "      <td>Online</td>\n",
              "      <td>4</td>\n",
              "      <td>26.00</td>\n",
              "      <td>Cancellation Plan</td>\n",
              "      <td>ASIA</td>\n",
              "    </tr>\n",
              "    <tr>\n",
              "      <th>4</th>\n",
              "      <td>33</td>\n",
              "      <td>JZI</td>\n",
              "      <td>Airlines</td>\n",
              "      <td>No</td>\n",
              "      <td>6.30</td>\n",
              "      <td>Online</td>\n",
              "      <td>53</td>\n",
              "      <td>18.00</td>\n",
              "      <td>Bronze Plan</td>\n",
              "      <td>ASIA</td>\n",
              "    </tr>\n",
              "  </tbody>\n",
              "</table>\n",
              "</div>\n",
              "    <div class=\"colab-df-buttons\">\n",
              "\n",
              "  <div class=\"colab-df-container\">\n",
              "    <button class=\"colab-df-convert\" onclick=\"convertToInteractive('df-0ec30b53-a7d5-4760-8d10-88b869c6b777')\"\n",
              "            title=\"Convert this dataframe to an interactive table.\"\n",
              "            style=\"display:none;\">\n",
              "\n",
              "  <svg xmlns=\"http://www.w3.org/2000/svg\" height=\"24px\" viewBox=\"0 -960 960 960\">\n",
              "    <path d=\"M120-120v-720h720v720H120Zm60-500h600v-160H180v160Zm220 220h160v-160H400v160Zm0 220h160v-160H400v160ZM180-400h160v-160H180v160Zm440 0h160v-160H620v160ZM180-180h160v-160H180v160Zm440 0h160v-160H620v160Z\"/>\n",
              "  </svg>\n",
              "    </button>\n",
              "\n",
              "  <style>\n",
              "    .colab-df-container {\n",
              "      display:flex;\n",
              "      gap: 12px;\n",
              "    }\n",
              "\n",
              "    .colab-df-convert {\n",
              "      background-color: #E8F0FE;\n",
              "      border: none;\n",
              "      border-radius: 50%;\n",
              "      cursor: pointer;\n",
              "      display: none;\n",
              "      fill: #1967D2;\n",
              "      height: 32px;\n",
              "      padding: 0 0 0 0;\n",
              "      width: 32px;\n",
              "    }\n",
              "\n",
              "    .colab-df-convert:hover {\n",
              "      background-color: #E2EBFA;\n",
              "      box-shadow: 0px 1px 2px rgba(60, 64, 67, 0.3), 0px 1px 3px 1px rgba(60, 64, 67, 0.15);\n",
              "      fill: #174EA6;\n",
              "    }\n",
              "\n",
              "    .colab-df-buttons div {\n",
              "      margin-bottom: 4px;\n",
              "    }\n",
              "\n",
              "    [theme=dark] .colab-df-convert {\n",
              "      background-color: #3B4455;\n",
              "      fill: #D2E3FC;\n",
              "    }\n",
              "\n",
              "    [theme=dark] .colab-df-convert:hover {\n",
              "      background-color: #434B5C;\n",
              "      box-shadow: 0px 1px 3px 1px rgba(0, 0, 0, 0.15);\n",
              "      filter: drop-shadow(0px 1px 2px rgba(0, 0, 0, 0.3));\n",
              "      fill: #FFFFFF;\n",
              "    }\n",
              "  </style>\n",
              "\n",
              "    <script>\n",
              "      const buttonEl =\n",
              "        document.querySelector('#df-0ec30b53-a7d5-4760-8d10-88b869c6b777 button.colab-df-convert');\n",
              "      buttonEl.style.display =\n",
              "        google.colab.kernel.accessAllowed ? 'block' : 'none';\n",
              "\n",
              "      async function convertToInteractive(key) {\n",
              "        const element = document.querySelector('#df-0ec30b53-a7d5-4760-8d10-88b869c6b777');\n",
              "        const dataTable =\n",
              "          await google.colab.kernel.invokeFunction('convertToInteractive',\n",
              "                                                    [key], {});\n",
              "        if (!dataTable) return;\n",
              "\n",
              "        const docLinkHtml = 'Like what you see? Visit the ' +\n",
              "          '<a target=\"_blank\" href=https://colab.research.google.com/notebooks/data_table.ipynb>data table notebook</a>'\n",
              "          + ' to learn more about interactive tables.';\n",
              "        element.innerHTML = '';\n",
              "        dataTable['output_type'] = 'display_data';\n",
              "        await google.colab.output.renderOutput(dataTable, element);\n",
              "        const docLink = document.createElement('div');\n",
              "        docLink.innerHTML = docLinkHtml;\n",
              "        element.appendChild(docLink);\n",
              "      }\n",
              "    </script>\n",
              "  </div>\n",
              "\n",
              "\n",
              "<div id=\"df-38260384-4151-428f-8112-9c8e78dc87b8\">\n",
              "  <button class=\"colab-df-quickchart\" onclick=\"quickchart('df-38260384-4151-428f-8112-9c8e78dc87b8')\"\n",
              "            title=\"Suggest charts\"\n",
              "            style=\"display:none;\">\n",
              "\n",
              "<svg xmlns=\"http://www.w3.org/2000/svg\" height=\"24px\"viewBox=\"0 0 24 24\"\n",
              "     width=\"24px\">\n",
              "    <g>\n",
              "        <path d=\"M19 3H5c-1.1 0-2 .9-2 2v14c0 1.1.9 2 2 2h14c1.1 0 2-.9 2-2V5c0-1.1-.9-2-2-2zM9 17H7v-7h2v7zm4 0h-2V7h2v10zm4 0h-2v-4h2v4z\"/>\n",
              "    </g>\n",
              "</svg>\n",
              "  </button>\n",
              "\n",
              "<style>\n",
              "  .colab-df-quickchart {\n",
              "      --bg-color: #E8F0FE;\n",
              "      --fill-color: #1967D2;\n",
              "      --hover-bg-color: #E2EBFA;\n",
              "      --hover-fill-color: #174EA6;\n",
              "      --disabled-fill-color: #AAA;\n",
              "      --disabled-bg-color: #DDD;\n",
              "  }\n",
              "\n",
              "  [theme=dark] .colab-df-quickchart {\n",
              "      --bg-color: #3B4455;\n",
              "      --fill-color: #D2E3FC;\n",
              "      --hover-bg-color: #434B5C;\n",
              "      --hover-fill-color: #FFFFFF;\n",
              "      --disabled-bg-color: #3B4455;\n",
              "      --disabled-fill-color: #666;\n",
              "  }\n",
              "\n",
              "  .colab-df-quickchart {\n",
              "    background-color: var(--bg-color);\n",
              "    border: none;\n",
              "    border-radius: 50%;\n",
              "    cursor: pointer;\n",
              "    display: none;\n",
              "    fill: var(--fill-color);\n",
              "    height: 32px;\n",
              "    padding: 0;\n",
              "    width: 32px;\n",
              "  }\n",
              "\n",
              "  .colab-df-quickchart:hover {\n",
              "    background-color: var(--hover-bg-color);\n",
              "    box-shadow: 0 1px 2px rgba(60, 64, 67, 0.3), 0 1px 3px 1px rgba(60, 64, 67, 0.15);\n",
              "    fill: var(--button-hover-fill-color);\n",
              "  }\n",
              "\n",
              "  .colab-df-quickchart-complete:disabled,\n",
              "  .colab-df-quickchart-complete:disabled:hover {\n",
              "    background-color: var(--disabled-bg-color);\n",
              "    fill: var(--disabled-fill-color);\n",
              "    box-shadow: none;\n",
              "  }\n",
              "\n",
              "  .colab-df-spinner {\n",
              "    border: 2px solid var(--fill-color);\n",
              "    border-color: transparent;\n",
              "    border-bottom-color: var(--fill-color);\n",
              "    animation:\n",
              "      spin 1s steps(1) infinite;\n",
              "  }\n",
              "\n",
              "  @keyframes spin {\n",
              "    0% {\n",
              "      border-color: transparent;\n",
              "      border-bottom-color: var(--fill-color);\n",
              "      border-left-color: var(--fill-color);\n",
              "    }\n",
              "    20% {\n",
              "      border-color: transparent;\n",
              "      border-left-color: var(--fill-color);\n",
              "      border-top-color: var(--fill-color);\n",
              "    }\n",
              "    30% {\n",
              "      border-color: transparent;\n",
              "      border-left-color: var(--fill-color);\n",
              "      border-top-color: var(--fill-color);\n",
              "      border-right-color: var(--fill-color);\n",
              "    }\n",
              "    40% {\n",
              "      border-color: transparent;\n",
              "      border-right-color: var(--fill-color);\n",
              "      border-top-color: var(--fill-color);\n",
              "    }\n",
              "    60% {\n",
              "      border-color: transparent;\n",
              "      border-right-color: var(--fill-color);\n",
              "    }\n",
              "    80% {\n",
              "      border-color: transparent;\n",
              "      border-right-color: var(--fill-color);\n",
              "      border-bottom-color: var(--fill-color);\n",
              "    }\n",
              "    90% {\n",
              "      border-color: transparent;\n",
              "      border-bottom-color: var(--fill-color);\n",
              "    }\n",
              "  }\n",
              "</style>\n",
              "\n",
              "  <script>\n",
              "    async function quickchart(key) {\n",
              "      const quickchartButtonEl =\n",
              "        document.querySelector('#' + key + ' button');\n",
              "      quickchartButtonEl.disabled = true;  // To prevent multiple clicks.\n",
              "      quickchartButtonEl.classList.add('colab-df-spinner');\n",
              "      try {\n",
              "        const charts = await google.colab.kernel.invokeFunction(\n",
              "            'suggestCharts', [key], {});\n",
              "      } catch (error) {\n",
              "        console.error('Error during call to suggestCharts:', error);\n",
              "      }\n",
              "      quickchartButtonEl.classList.remove('colab-df-spinner');\n",
              "      quickchartButtonEl.classList.add('colab-df-quickchart-complete');\n",
              "    }\n",
              "    (() => {\n",
              "      let quickchartButtonEl =\n",
              "        document.querySelector('#df-38260384-4151-428f-8112-9c8e78dc87b8 button');\n",
              "      quickchartButtonEl.style.display =\n",
              "        google.colab.kernel.accessAllowed ? 'block' : 'none';\n",
              "    })();\n",
              "  </script>\n",
              "</div>\n",
              "\n",
              "    </div>\n",
              "  </div>\n"
            ],
            "application/vnd.google.colaboratory.intrinsic+json": {
              "type": "dataframe",
              "variable_name": "ins_df",
              "summary": "{\n  \"name\": \"ins_df\",\n  \"rows\": 3000,\n  \"fields\": [\n    {\n      \"column\": \"Age\",\n      \"properties\": {\n        \"dtype\": \"number\",\n        \"std\": 10,\n        \"min\": 8,\n        \"max\": 84,\n        \"num_unique_values\": 70,\n        \"samples\": [\n          38,\n          48,\n          49\n        ],\n        \"semantic_type\": \"\",\n        \"description\": \"\"\n      }\n    },\n    {\n      \"column\": \"Agency_Code\",\n      \"properties\": {\n        \"dtype\": \"category\",\n        \"num_unique_values\": 4,\n        \"samples\": [\n          \"EPX\",\n          \"JZI\",\n          \"C2B\"\n        ],\n        \"semantic_type\": \"\",\n        \"description\": \"\"\n      }\n    },\n    {\n      \"column\": \"Type\",\n      \"properties\": {\n        \"dtype\": \"category\",\n        \"num_unique_values\": 2,\n        \"samples\": [\n          \"Travel Agency\",\n          \"Airlines\"\n        ],\n        \"semantic_type\": \"\",\n        \"description\": \"\"\n      }\n    },\n    {\n      \"column\": \"Claimed\",\n      \"properties\": {\n        \"dtype\": \"category\",\n        \"num_unique_values\": 2,\n        \"samples\": [\n          \"Yes\",\n          \"No\"\n        ],\n        \"semantic_type\": \"\",\n        \"description\": \"\"\n      }\n    },\n    {\n      \"column\": \"Commision\",\n      \"properties\": {\n        \"dtype\": \"number\",\n        \"std\": 25.481454506625926,\n        \"min\": 0.0,\n        \"max\": 210.21,\n        \"num_unique_values\": 324,\n        \"samples\": [\n          24.86,\n          18.85\n        ],\n        \"semantic_type\": \"\",\n        \"description\": \"\"\n      }\n    },\n    {\n      \"column\": \"Channel\",\n      \"properties\": {\n        \"dtype\": \"category\",\n        \"num_unique_values\": 2,\n        \"samples\": [\n          \"Offline\",\n          \"Online\"\n        ],\n        \"semantic_type\": \"\",\n        \"description\": \"\"\n      }\n    },\n    {\n      \"column\": \"Duration\",\n      \"properties\": {\n        \"dtype\": \"number\",\n        \"std\": 134,\n        \"min\": -1,\n        \"max\": 4580,\n        \"num_unique_values\": 257,\n        \"samples\": [\n          289,\n          118\n        ],\n        \"semantic_type\": \"\",\n        \"description\": \"\"\n      }\n    },\n    {\n      \"column\": \"Sales\",\n      \"properties\": {\n        \"dtype\": \"number\",\n        \"std\": 70.73395353143037,\n        \"min\": 0.0,\n        \"max\": 539.0,\n        \"num_unique_values\": 380,\n        \"samples\": [\n          188.0,\n          181.0\n        ],\n        \"semantic_type\": \"\",\n        \"description\": \"\"\n      }\n    },\n    {\n      \"column\": \"Product Name\",\n      \"properties\": {\n        \"dtype\": \"category\",\n        \"num_unique_values\": 5,\n        \"samples\": [\n          \"Cancellation Plan\",\n          \"Gold Plan\"\n        ],\n        \"semantic_type\": \"\",\n        \"description\": \"\"\n      }\n    },\n    {\n      \"column\": \"Destination\",\n      \"properties\": {\n        \"dtype\": \"category\",\n        \"num_unique_values\": 3,\n        \"samples\": [\n          \"ASIA\",\n          \"Americas\"\n        ],\n        \"semantic_type\": \"\",\n        \"description\": \"\"\n      }\n    }\n  ]\n}"
            }
          },
          "metadata": {},
          "execution_count": 3
        }
      ],
      "source": [
        "ins_df.head()"
      ]
    },
    {
      "cell_type": "code",
      "execution_count": null,
      "id": "e76d021a",
      "metadata": {
        "colab": {
          "base_uri": "https://localhost:8080/"
        },
        "id": "e76d021a",
        "outputId": "812f7b2a-d0b1-43e6-da9a-e81d83d8294f"
      },
      "outputs": [
        {
          "output_type": "stream",
          "name": "stdout",
          "text": [
            "<class 'pandas.core.frame.DataFrame'>\n",
            "RangeIndex: 3000 entries, 0 to 2999\n",
            "Data columns (total 10 columns):\n",
            " #   Column        Non-Null Count  Dtype  \n",
            "---  ------        --------------  -----  \n",
            " 0   Age           3000 non-null   int64  \n",
            " 1   Agency_Code   3000 non-null   object \n",
            " 2   Type          3000 non-null   object \n",
            " 3   Claimed       3000 non-null   object \n",
            " 4   Commision     3000 non-null   float64\n",
            " 5   Channel       3000 non-null   object \n",
            " 6   Duration      3000 non-null   int64  \n",
            " 7   Sales         3000 non-null   float64\n",
            " 8   Product Name  3000 non-null   object \n",
            " 9   Destination   3000 non-null   object \n",
            "dtypes: float64(2), int64(2), object(6)\n",
            "memory usage: 234.5+ KB\n"
          ]
        }
      ],
      "source": [
        "ins_df.info()"
      ]
    },
    {
      "cell_type": "code",
      "execution_count": null,
      "id": "ad8a587b",
      "metadata": {
        "colab": {
          "base_uri": "https://localhost:8080/"
        },
        "id": "ad8a587b",
        "outputId": "f0480779-29e4-4909-fb67-ca82f680ce81"
      },
      "outputs": [
        {
          "output_type": "stream",
          "name": "stdout",
          "text": [
            "Age \n",
            " Age\n",
            "36    999\n",
            "31    125\n",
            "48    108\n",
            "30     96\n",
            "35     94\n",
            "     ... \n",
            "8       1\n",
            "84      1\n",
            "83      1\n",
            "15      1\n",
            "11      1\n",
            "Name: count, Length: 70, dtype: int64\n",
            "\n",
            "\n",
            "Agency_Code \n",
            " Agency_Code\n",
            "EPX    1365\n",
            "C2B     924\n",
            "CWT     472\n",
            "JZI     239\n",
            "Name: count, dtype: int64\n",
            "\n",
            "\n",
            "Type \n",
            " Type\n",
            "Travel Agency    1837\n",
            "Airlines         1163\n",
            "Name: count, dtype: int64\n",
            "\n",
            "\n",
            "Claimed \n",
            " Claimed\n",
            "No     2076\n",
            "Yes     924\n",
            "Name: count, dtype: int64\n",
            "\n",
            "\n",
            "Commision \n",
            " Commision\n",
            "0.00     1366\n",
            "63.21      62\n",
            "23.76      61\n",
            "54.00      61\n",
            "17.82      57\n",
            "         ... \n",
            "49.40       1\n",
            "68.08       1\n",
            "15.56       1\n",
            "1.25        1\n",
            "13.50       1\n",
            "Name: count, Length: 324, dtype: int64\n",
            "\n",
            "\n",
            "Channel \n",
            " Channel\n",
            "Online     2954\n",
            "Offline      46\n",
            "Name: count, dtype: int64\n",
            "\n",
            "\n",
            "Duration \n",
            " Duration\n",
            "8      83\n",
            "5      82\n",
            "10     81\n",
            "6      81\n",
            "11     81\n",
            "       ..\n",
            "393     1\n",
            "244     1\n",
            "208     1\n",
            "431     1\n",
            "416     1\n",
            "Name: count, Length: 257, dtype: int64\n",
            "\n",
            "\n",
            "Sales \n",
            " Sales\n",
            "20.00     225\n",
            "10.00     163\n",
            "22.00      79\n",
            "252.85     60\n",
            "216.00     59\n",
            "         ... \n",
            "171.00      1\n",
            "159.00      1\n",
            "177.00      1\n",
            "1.99        1\n",
            "287.40      1\n",
            "Name: count, Length: 380, dtype: int64\n",
            "\n",
            "\n",
            "Product Name \n",
            " Product Name\n",
            "Customised Plan      1136\n",
            "Cancellation Plan     678\n",
            "Bronze Plan           650\n",
            "Silver Plan           427\n",
            "Gold Plan             109\n",
            "Name: count, dtype: int64\n",
            "\n",
            "\n",
            "Destination \n",
            " Destination\n",
            "ASIA        2465\n",
            "Americas     320\n",
            "EUROPE       215\n",
            "Name: count, dtype: int64\n"
          ]
        }
      ],
      "source": [
        "print('Age \\n',ins_df.Age.value_counts())\n",
        "print('\\n')\n",
        "print('Agency_Code \\n',ins_df.Agency_Code.value_counts())\n",
        "print('\\n')\n",
        "print('Type \\n',ins_df.Type.value_counts())\n",
        "print('\\n')\n",
        "print('Claimed \\n',ins_df.Claimed.value_counts())\n",
        "print('\\n')\n",
        "print('Commision \\n',ins_df.Commision.value_counts())\n",
        "print('\\n')\n",
        "print('Channel \\n',ins_df.Channel.value_counts())\n",
        "print('\\n')\n",
        "print('Duration \\n',ins_df.Duration.value_counts())\n",
        "print('\\n')\n",
        "print('Sales \\n',ins_df.Sales.value_counts())\n",
        "print('\\n')\n",
        "print('Product Name \\n',ins_df[\"Product Name\"].value_counts())\n",
        "print('\\n')\n",
        "print('Destination \\n',ins_df.Destination.value_counts())"
      ]
    },
    {
      "cell_type": "code",
      "execution_count": null,
      "id": "634a0b06",
      "metadata": {
        "colab": {
          "base_uri": "https://localhost:8080/"
        },
        "id": "634a0b06",
        "outputId": "38667655-ab64-46f0-b386-060da5cf9b0c"
      },
      "outputs": [
        {
          "output_type": "execute_result",
          "data": {
            "text/plain": [
              "Index(['Age', 'Agency_Code', 'Type', 'Claimed', 'Commision', 'Channel',\n",
              "       'Duration', 'Sales', 'Product Name', 'Destination'],\n",
              "      dtype='object')"
            ]
          },
          "metadata": {},
          "execution_count": 6
        }
      ],
      "source": [
        "ins_df.columns"
      ]
    },
    {
      "cell_type": "code",
      "execution_count": null,
      "id": "e1c1e110",
      "metadata": {
        "colab": {
          "base_uri": "https://localhost:8080/"
        },
        "id": "e1c1e110",
        "outputId": "dd37b32a-add7-440f-c1a0-fc46d2dbb7cc"
      },
      "outputs": [
        {
          "output_type": "execute_result",
          "data": {
            "text/plain": [
              "(3000, 10)"
            ]
          },
          "metadata": {},
          "execution_count": 7
        }
      ],
      "source": [
        "ins_df.shape"
      ]
    },
    {
      "cell_type": "code",
      "execution_count": null,
      "id": "f7d63597",
      "metadata": {
        "colab": {
          "base_uri": "https://localhost:8080/"
        },
        "id": "f7d63597",
        "outputId": "aae2d0c9-5caa-4551-9fe3-f487b23eb8c1"
      },
      "outputs": [
        {
          "output_type": "stream",
          "name": "stdout",
          "text": [
            "Claimed\n",
            "No     0.692\n",
            "Yes    0.308\n",
            "Name: proportion, dtype: float64\n",
            "%0s 2076 \n",
            " %1s 924\n"
          ]
        }
      ],
      "source": [
        "# Get the proportions\n",
        "print(ins_df.Claimed.value_counts(normalize=True))\n",
        "print('%0s',ins_df.Claimed.value_counts()[0],'\\n','%1s',ins_df.Claimed.value_counts()[1])"
      ]
    },
    {
      "cell_type": "code",
      "execution_count": null,
      "id": "c77570cb",
      "metadata": {
        "id": "c77570cb"
      },
      "outputs": [],
      "source": [
        "from sklearn.model_selection import train_test_split"
      ]
    },
    {
      "cell_type": "code",
      "execution_count": null,
      "id": "845a0dfc",
      "metadata": {
        "colab": {
          "base_uri": "https://localhost:8080/"
        },
        "id": "845a0dfc",
        "outputId": "a43c7787-ef19-42a2-cd78-5bbf60d60622"
      },
      "outputs": [
        {
          "output_type": "stream",
          "name": "stdout",
          "text": [
            "\n",
            "\n",
            "feature: Agency_Code\n",
            "['C2B', 'EPX', 'CWT', 'JZI']\n",
            "Categories (4, object): ['C2B', 'CWT', 'EPX', 'JZI']\n",
            "[0 2 1 3]\n",
            "\n",
            "\n",
            "feature: Type\n",
            "['Airlines', 'Travel Agency']\n",
            "Categories (2, object): ['Airlines', 'Travel Agency']\n",
            "[0 1]\n",
            "\n",
            "\n",
            "feature: Claimed\n",
            "['No', 'Yes']\n",
            "Categories (2, object): ['No', 'Yes']\n",
            "[0 1]\n",
            "\n",
            "\n",
            "feature: Channel\n",
            "['Online', 'Offline']\n",
            "Categories (2, object): ['Offline', 'Online']\n",
            "[1 0]\n",
            "\n",
            "\n",
            "feature: Product Name\n",
            "['Customised Plan', 'Cancellation Plan', 'Bronze Plan', 'Silver Plan', 'Gold Plan']\n",
            "Categories (5, object): ['Bronze Plan', 'Cancellation Plan', 'Customised Plan', 'Gold Plan',\n",
            "                         'Silver Plan']\n",
            "[2 1 0 4 3]\n",
            "\n",
            "\n",
            "feature: Destination\n",
            "['ASIA', 'Americas', 'EUROPE']\n",
            "Categories (3, object): ['ASIA', 'Americas', 'EUROPE']\n",
            "[0 1 2]\n"
          ]
        }
      ],
      "source": [
        "for feature in ins_df.columns:\n",
        "    if ins_df[feature].dtype == 'object':\n",
        "        print('\\n')\n",
        "        print('feature:',feature)\n",
        "        print(pd.Categorical(ins_df[feature].unique()))\n",
        "        print(pd.Categorical(ins_df[feature].unique()).codes)\n",
        "        ins_df[feature] = pd.Categorical(ins_df[feature]).codes"
      ]
    },
    {
      "cell_type": "code",
      "execution_count": null,
      "id": "323013f1",
      "metadata": {
        "colab": {
          "base_uri": "https://localhost:8080/"
        },
        "id": "323013f1",
        "outputId": "f09630f4-e0c5-4031-f7c9-047f3e872efd"
      },
      "outputs": [
        {
          "output_type": "stream",
          "name": "stdout",
          "text": [
            "Age \n",
            " Age\n",
            "36    999\n",
            "31    125\n",
            "48    108\n",
            "30     96\n",
            "35     94\n",
            "     ... \n",
            "8       1\n",
            "84      1\n",
            "83      1\n",
            "15      1\n",
            "11      1\n",
            "Name: count, Length: 70, dtype: int64\n",
            "\n",
            "\n",
            "Agency_Code \n",
            " Agency_Code\n",
            "2    1365\n",
            "0     924\n",
            "1     472\n",
            "3     239\n",
            "Name: count, dtype: int64\n",
            "\n",
            "\n",
            "Type \n",
            " Type\n",
            "1    1837\n",
            "0    1163\n",
            "Name: count, dtype: int64\n",
            "\n",
            "\n",
            "Claimed \n",
            " Claimed\n",
            "0    2076\n",
            "1     924\n",
            "Name: count, dtype: int64\n",
            "\n",
            "\n",
            "Commision \n",
            " Commision\n",
            "0.00     1366\n",
            "63.21      62\n",
            "23.76      61\n",
            "54.00      61\n",
            "17.82      57\n",
            "         ... \n",
            "49.40       1\n",
            "68.08       1\n",
            "15.56       1\n",
            "1.25        1\n",
            "13.50       1\n",
            "Name: count, Length: 324, dtype: int64\n",
            "\n",
            "\n",
            "Channel \n",
            " Channel\n",
            "1    2954\n",
            "0      46\n",
            "Name: count, dtype: int64\n",
            "\n",
            "\n",
            "Duration \n",
            " Duration\n",
            "8      83\n",
            "5      82\n",
            "10     81\n",
            "6      81\n",
            "11     81\n",
            "       ..\n",
            "393     1\n",
            "244     1\n",
            "208     1\n",
            "431     1\n",
            "416     1\n",
            "Name: count, Length: 257, dtype: int64\n",
            "\n",
            "\n",
            "Sales \n",
            " Sales\n",
            "20.00     225\n",
            "10.00     163\n",
            "22.00      79\n",
            "252.85     60\n",
            "216.00     59\n",
            "         ... \n",
            "171.00      1\n",
            "159.00      1\n",
            "177.00      1\n",
            "1.99        1\n",
            "287.40      1\n",
            "Name: count, Length: 380, dtype: int64\n",
            "\n",
            "\n",
            "Product Name \n",
            " Product Name\n",
            "2    1136\n",
            "1     678\n",
            "0     650\n",
            "4     427\n",
            "3     109\n",
            "Name: count, dtype: int64\n",
            "\n",
            "\n",
            "Destination \n",
            " Destination\n",
            "0    2465\n",
            "1     320\n",
            "2     215\n",
            "Name: count, dtype: int64\n"
          ]
        }
      ],
      "source": [
        "print('Age \\n',ins_df.Age.value_counts())\n",
        "print('\\n')\n",
        "print('Agency_Code \\n',ins_df.Agency_Code.value_counts())\n",
        "print('\\n')\n",
        "print('Type \\n',ins_df.Type.value_counts())\n",
        "print('\\n')\n",
        "print('Claimed \\n',ins_df.Claimed.value_counts())\n",
        "print('\\n')\n",
        "print('Commision \\n',ins_df.Commision.value_counts())\n",
        "print('\\n')\n",
        "print('Channel \\n',ins_df.Channel.value_counts())\n",
        "print('\\n')\n",
        "print('Duration \\n',ins_df.Duration.value_counts())\n",
        "print('\\n')\n",
        "print('Sales \\n',ins_df.Sales.value_counts())\n",
        "print('\\n')\n",
        "print('Product Name \\n',ins_df[\"Product Name\"].value_counts())\n",
        "print('\\n')\n",
        "print('Destination \\n',ins_df.Destination.value_counts())"
      ]
    },
    {
      "cell_type": "code",
      "execution_count": null,
      "id": "1b0592f0",
      "metadata": {
        "colab": {
          "base_uri": "https://localhost:8080/"
        },
        "id": "1b0592f0",
        "outputId": "5339134f-57d0-4d57-9fdd-e0242dbb6c16"
      },
      "outputs": [
        {
          "output_type": "stream",
          "name": "stdout",
          "text": [
            "<class 'pandas.core.frame.DataFrame'>\n",
            "RangeIndex: 3000 entries, 0 to 2999\n",
            "Data columns (total 10 columns):\n",
            " #   Column        Non-Null Count  Dtype  \n",
            "---  ------        --------------  -----  \n",
            " 0   Age           3000 non-null   int64  \n",
            " 1   Agency_Code   3000 non-null   int8   \n",
            " 2   Type          3000 non-null   int8   \n",
            " 3   Claimed       3000 non-null   int8   \n",
            " 4   Commision     3000 non-null   float64\n",
            " 5   Channel       3000 non-null   int8   \n",
            " 6   Duration      3000 non-null   int64  \n",
            " 7   Sales         3000 non-null   float64\n",
            " 8   Product Name  3000 non-null   int8   \n",
            " 9   Destination   3000 non-null   int8   \n",
            "dtypes: float64(2), int64(2), int8(6)\n",
            "memory usage: 111.5 KB\n"
          ]
        }
      ],
      "source": [
        "ins_df.info()"
      ]
    },
    {
      "cell_type": "code",
      "execution_count": null,
      "id": "412988d5",
      "metadata": {
        "colab": {
          "base_uri": "https://localhost:8080/",
          "height": 206
        },
        "id": "412988d5",
        "outputId": "f8d0dac5-f589-4850-b743-cd8069334dbc"
      },
      "outputs": [
        {
          "output_type": "execute_result",
          "data": {
            "text/plain": [
              "   Age  Agency_Code  Type  Claimed  Commision  Channel  Duration  Sales  \\\n",
              "0   48            0     0        0       0.70        1         7   2.51   \n",
              "1   36            2     1        0       0.00        1        34  20.00   \n",
              "2   39            1     1        0       5.94        1         3   9.90   \n",
              "3   36            2     1        0       0.00        1         4  26.00   \n",
              "4   33            3     0        0       6.30        1        53  18.00   \n",
              "\n",
              "   Product Name  Destination  \n",
              "0             2            0  \n",
              "1             2            0  \n",
              "2             2            1  \n",
              "3             1            0  \n",
              "4             0            0  "
            ],
            "text/html": [
              "\n",
              "  <div id=\"df-640fa407-3e14-463d-ac92-4703ae06c2f6\" class=\"colab-df-container\">\n",
              "    <div>\n",
              "<style scoped>\n",
              "    .dataframe tbody tr th:only-of-type {\n",
              "        vertical-align: middle;\n",
              "    }\n",
              "\n",
              "    .dataframe tbody tr th {\n",
              "        vertical-align: top;\n",
              "    }\n",
              "\n",
              "    .dataframe thead th {\n",
              "        text-align: right;\n",
              "    }\n",
              "</style>\n",
              "<table border=\"1\" class=\"dataframe\">\n",
              "  <thead>\n",
              "    <tr style=\"text-align: right;\">\n",
              "      <th></th>\n",
              "      <th>Age</th>\n",
              "      <th>Agency_Code</th>\n",
              "      <th>Type</th>\n",
              "      <th>Claimed</th>\n",
              "      <th>Commision</th>\n",
              "      <th>Channel</th>\n",
              "      <th>Duration</th>\n",
              "      <th>Sales</th>\n",
              "      <th>Product Name</th>\n",
              "      <th>Destination</th>\n",
              "    </tr>\n",
              "  </thead>\n",
              "  <tbody>\n",
              "    <tr>\n",
              "      <th>0</th>\n",
              "      <td>48</td>\n",
              "      <td>0</td>\n",
              "      <td>0</td>\n",
              "      <td>0</td>\n",
              "      <td>0.70</td>\n",
              "      <td>1</td>\n",
              "      <td>7</td>\n",
              "      <td>2.51</td>\n",
              "      <td>2</td>\n",
              "      <td>0</td>\n",
              "    </tr>\n",
              "    <tr>\n",
              "      <th>1</th>\n",
              "      <td>36</td>\n",
              "      <td>2</td>\n",
              "      <td>1</td>\n",
              "      <td>0</td>\n",
              "      <td>0.00</td>\n",
              "      <td>1</td>\n",
              "      <td>34</td>\n",
              "      <td>20.00</td>\n",
              "      <td>2</td>\n",
              "      <td>0</td>\n",
              "    </tr>\n",
              "    <tr>\n",
              "      <th>2</th>\n",
              "      <td>39</td>\n",
              "      <td>1</td>\n",
              "      <td>1</td>\n",
              "      <td>0</td>\n",
              "      <td>5.94</td>\n",
              "      <td>1</td>\n",
              "      <td>3</td>\n",
              "      <td>9.90</td>\n",
              "      <td>2</td>\n",
              "      <td>1</td>\n",
              "    </tr>\n",
              "    <tr>\n",
              "      <th>3</th>\n",
              "      <td>36</td>\n",
              "      <td>2</td>\n",
              "      <td>1</td>\n",
              "      <td>0</td>\n",
              "      <td>0.00</td>\n",
              "      <td>1</td>\n",
              "      <td>4</td>\n",
              "      <td>26.00</td>\n",
              "      <td>1</td>\n",
              "      <td>0</td>\n",
              "    </tr>\n",
              "    <tr>\n",
              "      <th>4</th>\n",
              "      <td>33</td>\n",
              "      <td>3</td>\n",
              "      <td>0</td>\n",
              "      <td>0</td>\n",
              "      <td>6.30</td>\n",
              "      <td>1</td>\n",
              "      <td>53</td>\n",
              "      <td>18.00</td>\n",
              "      <td>0</td>\n",
              "      <td>0</td>\n",
              "    </tr>\n",
              "  </tbody>\n",
              "</table>\n",
              "</div>\n",
              "    <div class=\"colab-df-buttons\">\n",
              "\n",
              "  <div class=\"colab-df-container\">\n",
              "    <button class=\"colab-df-convert\" onclick=\"convertToInteractive('df-640fa407-3e14-463d-ac92-4703ae06c2f6')\"\n",
              "            title=\"Convert this dataframe to an interactive table.\"\n",
              "            style=\"display:none;\">\n",
              "\n",
              "  <svg xmlns=\"http://www.w3.org/2000/svg\" height=\"24px\" viewBox=\"0 -960 960 960\">\n",
              "    <path d=\"M120-120v-720h720v720H120Zm60-500h600v-160H180v160Zm220 220h160v-160H400v160Zm0 220h160v-160H400v160ZM180-400h160v-160H180v160Zm440 0h160v-160H620v160ZM180-180h160v-160H180v160Zm440 0h160v-160H620v160Z\"/>\n",
              "  </svg>\n",
              "    </button>\n",
              "\n",
              "  <style>\n",
              "    .colab-df-container {\n",
              "      display:flex;\n",
              "      gap: 12px;\n",
              "    }\n",
              "\n",
              "    .colab-df-convert {\n",
              "      background-color: #E8F0FE;\n",
              "      border: none;\n",
              "      border-radius: 50%;\n",
              "      cursor: pointer;\n",
              "      display: none;\n",
              "      fill: #1967D2;\n",
              "      height: 32px;\n",
              "      padding: 0 0 0 0;\n",
              "      width: 32px;\n",
              "    }\n",
              "\n",
              "    .colab-df-convert:hover {\n",
              "      background-color: #E2EBFA;\n",
              "      box-shadow: 0px 1px 2px rgba(60, 64, 67, 0.3), 0px 1px 3px 1px rgba(60, 64, 67, 0.15);\n",
              "      fill: #174EA6;\n",
              "    }\n",
              "\n",
              "    .colab-df-buttons div {\n",
              "      margin-bottom: 4px;\n",
              "    }\n",
              "\n",
              "    [theme=dark] .colab-df-convert {\n",
              "      background-color: #3B4455;\n",
              "      fill: #D2E3FC;\n",
              "    }\n",
              "\n",
              "    [theme=dark] .colab-df-convert:hover {\n",
              "      background-color: #434B5C;\n",
              "      box-shadow: 0px 1px 3px 1px rgba(0, 0, 0, 0.15);\n",
              "      filter: drop-shadow(0px 1px 2px rgba(0, 0, 0, 0.3));\n",
              "      fill: #FFFFFF;\n",
              "    }\n",
              "  </style>\n",
              "\n",
              "    <script>\n",
              "      const buttonEl =\n",
              "        document.querySelector('#df-640fa407-3e14-463d-ac92-4703ae06c2f6 button.colab-df-convert');\n",
              "      buttonEl.style.display =\n",
              "        google.colab.kernel.accessAllowed ? 'block' : 'none';\n",
              "\n",
              "      async function convertToInteractive(key) {\n",
              "        const element = document.querySelector('#df-640fa407-3e14-463d-ac92-4703ae06c2f6');\n",
              "        const dataTable =\n",
              "          await google.colab.kernel.invokeFunction('convertToInteractive',\n",
              "                                                    [key], {});\n",
              "        if (!dataTable) return;\n",
              "\n",
              "        const docLinkHtml = 'Like what you see? Visit the ' +\n",
              "          '<a target=\"_blank\" href=https://colab.research.google.com/notebooks/data_table.ipynb>data table notebook</a>'\n",
              "          + ' to learn more about interactive tables.';\n",
              "        element.innerHTML = '';\n",
              "        dataTable['output_type'] = 'display_data';\n",
              "        await google.colab.output.renderOutput(dataTable, element);\n",
              "        const docLink = document.createElement('div');\n",
              "        docLink.innerHTML = docLinkHtml;\n",
              "        element.appendChild(docLink);\n",
              "      }\n",
              "    </script>\n",
              "  </div>\n",
              "\n",
              "\n",
              "<div id=\"df-d2bc46f0-6af4-410d-b57b-a75841f4c9a2\">\n",
              "  <button class=\"colab-df-quickchart\" onclick=\"quickchart('df-d2bc46f0-6af4-410d-b57b-a75841f4c9a2')\"\n",
              "            title=\"Suggest charts\"\n",
              "            style=\"display:none;\">\n",
              "\n",
              "<svg xmlns=\"http://www.w3.org/2000/svg\" height=\"24px\"viewBox=\"0 0 24 24\"\n",
              "     width=\"24px\">\n",
              "    <g>\n",
              "        <path d=\"M19 3H5c-1.1 0-2 .9-2 2v14c0 1.1.9 2 2 2h14c1.1 0 2-.9 2-2V5c0-1.1-.9-2-2-2zM9 17H7v-7h2v7zm4 0h-2V7h2v10zm4 0h-2v-4h2v4z\"/>\n",
              "    </g>\n",
              "</svg>\n",
              "  </button>\n",
              "\n",
              "<style>\n",
              "  .colab-df-quickchart {\n",
              "      --bg-color: #E8F0FE;\n",
              "      --fill-color: #1967D2;\n",
              "      --hover-bg-color: #E2EBFA;\n",
              "      --hover-fill-color: #174EA6;\n",
              "      --disabled-fill-color: #AAA;\n",
              "      --disabled-bg-color: #DDD;\n",
              "  }\n",
              "\n",
              "  [theme=dark] .colab-df-quickchart {\n",
              "      --bg-color: #3B4455;\n",
              "      --fill-color: #D2E3FC;\n",
              "      --hover-bg-color: #434B5C;\n",
              "      --hover-fill-color: #FFFFFF;\n",
              "      --disabled-bg-color: #3B4455;\n",
              "      --disabled-fill-color: #666;\n",
              "  }\n",
              "\n",
              "  .colab-df-quickchart {\n",
              "    background-color: var(--bg-color);\n",
              "    border: none;\n",
              "    border-radius: 50%;\n",
              "    cursor: pointer;\n",
              "    display: none;\n",
              "    fill: var(--fill-color);\n",
              "    height: 32px;\n",
              "    padding: 0;\n",
              "    width: 32px;\n",
              "  }\n",
              "\n",
              "  .colab-df-quickchart:hover {\n",
              "    background-color: var(--hover-bg-color);\n",
              "    box-shadow: 0 1px 2px rgba(60, 64, 67, 0.3), 0 1px 3px 1px rgba(60, 64, 67, 0.15);\n",
              "    fill: var(--button-hover-fill-color);\n",
              "  }\n",
              "\n",
              "  .colab-df-quickchart-complete:disabled,\n",
              "  .colab-df-quickchart-complete:disabled:hover {\n",
              "    background-color: var(--disabled-bg-color);\n",
              "    fill: var(--disabled-fill-color);\n",
              "    box-shadow: none;\n",
              "  }\n",
              "\n",
              "  .colab-df-spinner {\n",
              "    border: 2px solid var(--fill-color);\n",
              "    border-color: transparent;\n",
              "    border-bottom-color: var(--fill-color);\n",
              "    animation:\n",
              "      spin 1s steps(1) infinite;\n",
              "  }\n",
              "\n",
              "  @keyframes spin {\n",
              "    0% {\n",
              "      border-color: transparent;\n",
              "      border-bottom-color: var(--fill-color);\n",
              "      border-left-color: var(--fill-color);\n",
              "    }\n",
              "    20% {\n",
              "      border-color: transparent;\n",
              "      border-left-color: var(--fill-color);\n",
              "      border-top-color: var(--fill-color);\n",
              "    }\n",
              "    30% {\n",
              "      border-color: transparent;\n",
              "      border-left-color: var(--fill-color);\n",
              "      border-top-color: var(--fill-color);\n",
              "      border-right-color: var(--fill-color);\n",
              "    }\n",
              "    40% {\n",
              "      border-color: transparent;\n",
              "      border-right-color: var(--fill-color);\n",
              "      border-top-color: var(--fill-color);\n",
              "    }\n",
              "    60% {\n",
              "      border-color: transparent;\n",
              "      border-right-color: var(--fill-color);\n",
              "    }\n",
              "    80% {\n",
              "      border-color: transparent;\n",
              "      border-right-color: var(--fill-color);\n",
              "      border-bottom-color: var(--fill-color);\n",
              "    }\n",
              "    90% {\n",
              "      border-color: transparent;\n",
              "      border-bottom-color: var(--fill-color);\n",
              "    }\n",
              "  }\n",
              "</style>\n",
              "\n",
              "  <script>\n",
              "    async function quickchart(key) {\n",
              "      const quickchartButtonEl =\n",
              "        document.querySelector('#' + key + ' button');\n",
              "      quickchartButtonEl.disabled = true;  // To prevent multiple clicks.\n",
              "      quickchartButtonEl.classList.add('colab-df-spinner');\n",
              "      try {\n",
              "        const charts = await google.colab.kernel.invokeFunction(\n",
              "            'suggestCharts', [key], {});\n",
              "      } catch (error) {\n",
              "        console.error('Error during call to suggestCharts:', error);\n",
              "      }\n",
              "      quickchartButtonEl.classList.remove('colab-df-spinner');\n",
              "      quickchartButtonEl.classList.add('colab-df-quickchart-complete');\n",
              "    }\n",
              "    (() => {\n",
              "      let quickchartButtonEl =\n",
              "        document.querySelector('#df-d2bc46f0-6af4-410d-b57b-a75841f4c9a2 button');\n",
              "      quickchartButtonEl.style.display =\n",
              "        google.colab.kernel.accessAllowed ? 'block' : 'none';\n",
              "    })();\n",
              "  </script>\n",
              "</div>\n",
              "\n",
              "    </div>\n",
              "  </div>\n"
            ],
            "application/vnd.google.colaboratory.intrinsic+json": {
              "type": "dataframe",
              "variable_name": "ins_df",
              "summary": "{\n  \"name\": \"ins_df\",\n  \"rows\": 3000,\n  \"fields\": [\n    {\n      \"column\": \"Age\",\n      \"properties\": {\n        \"dtype\": \"number\",\n        \"std\": 10,\n        \"min\": 8,\n        \"max\": 84,\n        \"num_unique_values\": 70,\n        \"samples\": [\n          38,\n          48,\n          49\n        ],\n        \"semantic_type\": \"\",\n        \"description\": \"\"\n      }\n    },\n    {\n      \"column\": \"Agency_Code\",\n      \"properties\": {\n        \"dtype\": \"int8\",\n        \"num_unique_values\": 4,\n        \"samples\": [\n          2,\n          3,\n          0\n        ],\n        \"semantic_type\": \"\",\n        \"description\": \"\"\n      }\n    },\n    {\n      \"column\": \"Type\",\n      \"properties\": {\n        \"dtype\": \"int8\",\n        \"num_unique_values\": 2,\n        \"samples\": [\n          1,\n          0\n        ],\n        \"semantic_type\": \"\",\n        \"description\": \"\"\n      }\n    },\n    {\n      \"column\": \"Claimed\",\n      \"properties\": {\n        \"dtype\": \"int8\",\n        \"num_unique_values\": 2,\n        \"samples\": [\n          1,\n          0\n        ],\n        \"semantic_type\": \"\",\n        \"description\": \"\"\n      }\n    },\n    {\n      \"column\": \"Commision\",\n      \"properties\": {\n        \"dtype\": \"number\",\n        \"std\": 25.481454506625926,\n        \"min\": 0.0,\n        \"max\": 210.21,\n        \"num_unique_values\": 324,\n        \"samples\": [\n          24.86,\n          18.85\n        ],\n        \"semantic_type\": \"\",\n        \"description\": \"\"\n      }\n    },\n    {\n      \"column\": \"Channel\",\n      \"properties\": {\n        \"dtype\": \"int8\",\n        \"num_unique_values\": 2,\n        \"samples\": [\n          0,\n          1\n        ],\n        \"semantic_type\": \"\",\n        \"description\": \"\"\n      }\n    },\n    {\n      \"column\": \"Duration\",\n      \"properties\": {\n        \"dtype\": \"number\",\n        \"std\": 134,\n        \"min\": -1,\n        \"max\": 4580,\n        \"num_unique_values\": 257,\n        \"samples\": [\n          289,\n          118\n        ],\n        \"semantic_type\": \"\",\n        \"description\": \"\"\n      }\n    },\n    {\n      \"column\": \"Sales\",\n      \"properties\": {\n        \"dtype\": \"number\",\n        \"std\": 70.73395353143037,\n        \"min\": 0.0,\n        \"max\": 539.0,\n        \"num_unique_values\": 380,\n        \"samples\": [\n          188.0,\n          181.0\n        ],\n        \"semantic_type\": \"\",\n        \"description\": \"\"\n      }\n    },\n    {\n      \"column\": \"Product Name\",\n      \"properties\": {\n        \"dtype\": \"int8\",\n        \"num_unique_values\": 5,\n        \"samples\": [\n          1,\n          3\n        ],\n        \"semantic_type\": \"\",\n        \"description\": \"\"\n      }\n    },\n    {\n      \"column\": \"Destination\",\n      \"properties\": {\n        \"dtype\": \"int8\",\n        \"num_unique_values\": 3,\n        \"samples\": [\n          0,\n          1\n        ],\n        \"semantic_type\": \"\",\n        \"description\": \"\"\n      }\n    }\n  ]\n}"
            }
          },
          "metadata": {},
          "execution_count": 13
        }
      ],
      "source": [
        "ins_df.head()"
      ]
    },
    {
      "cell_type": "code",
      "execution_count": null,
      "id": "58f3518b",
      "metadata": {
        "id": "58f3518b"
      },
      "outputs": [],
      "source": [
        "ld_df = ins_df"
      ]
    },
    {
      "cell_type": "code",
      "execution_count": null,
      "id": "d0c9f2a1",
      "metadata": {
        "colab": {
          "base_uri": "https://localhost:8080/",
          "height": 206
        },
        "id": "d0c9f2a1",
        "outputId": "bc2f9dba-4f35-4717-eff5-b77e02498df0"
      },
      "outputs": [
        {
          "output_type": "execute_result",
          "data": {
            "text/plain": [
              "   Age  Agency_Code  Type  Commision  Channel  Duration  Sales  Product Name  \\\n",
              "0   48            0     0       0.70        1         7   2.51             2   \n",
              "1   36            2     1       0.00        1        34  20.00             2   \n",
              "2   39            1     1       5.94        1         3   9.90             2   \n",
              "3   36            2     1       0.00        1         4  26.00             1   \n",
              "4   33            3     0       6.30        1        53  18.00             0   \n",
              "\n",
              "   Destination  \n",
              "0            0  \n",
              "1            0  \n",
              "2            1  \n",
              "3            0  \n",
              "4            0  "
            ],
            "text/html": [
              "\n",
              "  <div id=\"df-32baf86e-f4c8-4fce-8c9f-a24a6b9b317b\" class=\"colab-df-container\">\n",
              "    <div>\n",
              "<style scoped>\n",
              "    .dataframe tbody tr th:only-of-type {\n",
              "        vertical-align: middle;\n",
              "    }\n",
              "\n",
              "    .dataframe tbody tr th {\n",
              "        vertical-align: top;\n",
              "    }\n",
              "\n",
              "    .dataframe thead th {\n",
              "        text-align: right;\n",
              "    }\n",
              "</style>\n",
              "<table border=\"1\" class=\"dataframe\">\n",
              "  <thead>\n",
              "    <tr style=\"text-align: right;\">\n",
              "      <th></th>\n",
              "      <th>Age</th>\n",
              "      <th>Agency_Code</th>\n",
              "      <th>Type</th>\n",
              "      <th>Commision</th>\n",
              "      <th>Channel</th>\n",
              "      <th>Duration</th>\n",
              "      <th>Sales</th>\n",
              "      <th>Product Name</th>\n",
              "      <th>Destination</th>\n",
              "    </tr>\n",
              "  </thead>\n",
              "  <tbody>\n",
              "    <tr>\n",
              "      <th>0</th>\n",
              "      <td>48</td>\n",
              "      <td>0</td>\n",
              "      <td>0</td>\n",
              "      <td>0.70</td>\n",
              "      <td>1</td>\n",
              "      <td>7</td>\n",
              "      <td>2.51</td>\n",
              "      <td>2</td>\n",
              "      <td>0</td>\n",
              "    </tr>\n",
              "    <tr>\n",
              "      <th>1</th>\n",
              "      <td>36</td>\n",
              "      <td>2</td>\n",
              "      <td>1</td>\n",
              "      <td>0.00</td>\n",
              "      <td>1</td>\n",
              "      <td>34</td>\n",
              "      <td>20.00</td>\n",
              "      <td>2</td>\n",
              "      <td>0</td>\n",
              "    </tr>\n",
              "    <tr>\n",
              "      <th>2</th>\n",
              "      <td>39</td>\n",
              "      <td>1</td>\n",
              "      <td>1</td>\n",
              "      <td>5.94</td>\n",
              "      <td>1</td>\n",
              "      <td>3</td>\n",
              "      <td>9.90</td>\n",
              "      <td>2</td>\n",
              "      <td>1</td>\n",
              "    </tr>\n",
              "    <tr>\n",
              "      <th>3</th>\n",
              "      <td>36</td>\n",
              "      <td>2</td>\n",
              "      <td>1</td>\n",
              "      <td>0.00</td>\n",
              "      <td>1</td>\n",
              "      <td>4</td>\n",
              "      <td>26.00</td>\n",
              "      <td>1</td>\n",
              "      <td>0</td>\n",
              "    </tr>\n",
              "    <tr>\n",
              "      <th>4</th>\n",
              "      <td>33</td>\n",
              "      <td>3</td>\n",
              "      <td>0</td>\n",
              "      <td>6.30</td>\n",
              "      <td>1</td>\n",
              "      <td>53</td>\n",
              "      <td>18.00</td>\n",
              "      <td>0</td>\n",
              "      <td>0</td>\n",
              "    </tr>\n",
              "  </tbody>\n",
              "</table>\n",
              "</div>\n",
              "    <div class=\"colab-df-buttons\">\n",
              "\n",
              "  <div class=\"colab-df-container\">\n",
              "    <button class=\"colab-df-convert\" onclick=\"convertToInteractive('df-32baf86e-f4c8-4fce-8c9f-a24a6b9b317b')\"\n",
              "            title=\"Convert this dataframe to an interactive table.\"\n",
              "            style=\"display:none;\">\n",
              "\n",
              "  <svg xmlns=\"http://www.w3.org/2000/svg\" height=\"24px\" viewBox=\"0 -960 960 960\">\n",
              "    <path d=\"M120-120v-720h720v720H120Zm60-500h600v-160H180v160Zm220 220h160v-160H400v160Zm0 220h160v-160H400v160ZM180-400h160v-160H180v160Zm440 0h160v-160H620v160ZM180-180h160v-160H180v160Zm440 0h160v-160H620v160Z\"/>\n",
              "  </svg>\n",
              "    </button>\n",
              "\n",
              "  <style>\n",
              "    .colab-df-container {\n",
              "      display:flex;\n",
              "      gap: 12px;\n",
              "    }\n",
              "\n",
              "    .colab-df-convert {\n",
              "      background-color: #E8F0FE;\n",
              "      border: none;\n",
              "      border-radius: 50%;\n",
              "      cursor: pointer;\n",
              "      display: none;\n",
              "      fill: #1967D2;\n",
              "      height: 32px;\n",
              "      padding: 0 0 0 0;\n",
              "      width: 32px;\n",
              "    }\n",
              "\n",
              "    .colab-df-convert:hover {\n",
              "      background-color: #E2EBFA;\n",
              "      box-shadow: 0px 1px 2px rgba(60, 64, 67, 0.3), 0px 1px 3px 1px rgba(60, 64, 67, 0.15);\n",
              "      fill: #174EA6;\n",
              "    }\n",
              "\n",
              "    .colab-df-buttons div {\n",
              "      margin-bottom: 4px;\n",
              "    }\n",
              "\n",
              "    [theme=dark] .colab-df-convert {\n",
              "      background-color: #3B4455;\n",
              "      fill: #D2E3FC;\n",
              "    }\n",
              "\n",
              "    [theme=dark] .colab-df-convert:hover {\n",
              "      background-color: #434B5C;\n",
              "      box-shadow: 0px 1px 3px 1px rgba(0, 0, 0, 0.15);\n",
              "      filter: drop-shadow(0px 1px 2px rgba(0, 0, 0, 0.3));\n",
              "      fill: #FFFFFF;\n",
              "    }\n",
              "  </style>\n",
              "\n",
              "    <script>\n",
              "      const buttonEl =\n",
              "        document.querySelector('#df-32baf86e-f4c8-4fce-8c9f-a24a6b9b317b button.colab-df-convert');\n",
              "      buttonEl.style.display =\n",
              "        google.colab.kernel.accessAllowed ? 'block' : 'none';\n",
              "\n",
              "      async function convertToInteractive(key) {\n",
              "        const element = document.querySelector('#df-32baf86e-f4c8-4fce-8c9f-a24a6b9b317b');\n",
              "        const dataTable =\n",
              "          await google.colab.kernel.invokeFunction('convertToInteractive',\n",
              "                                                    [key], {});\n",
              "        if (!dataTable) return;\n",
              "\n",
              "        const docLinkHtml = 'Like what you see? Visit the ' +\n",
              "          '<a target=\"_blank\" href=https://colab.research.google.com/notebooks/data_table.ipynb>data table notebook</a>'\n",
              "          + ' to learn more about interactive tables.';\n",
              "        element.innerHTML = '';\n",
              "        dataTable['output_type'] = 'display_data';\n",
              "        await google.colab.output.renderOutput(dataTable, element);\n",
              "        const docLink = document.createElement('div');\n",
              "        docLink.innerHTML = docLinkHtml;\n",
              "        element.appendChild(docLink);\n",
              "      }\n",
              "    </script>\n",
              "  </div>\n",
              "\n",
              "\n",
              "<div id=\"df-f7112a70-82e6-4fe2-8200-e0367f0aa9bd\">\n",
              "  <button class=\"colab-df-quickchart\" onclick=\"quickchart('df-f7112a70-82e6-4fe2-8200-e0367f0aa9bd')\"\n",
              "            title=\"Suggest charts\"\n",
              "            style=\"display:none;\">\n",
              "\n",
              "<svg xmlns=\"http://www.w3.org/2000/svg\" height=\"24px\"viewBox=\"0 0 24 24\"\n",
              "     width=\"24px\">\n",
              "    <g>\n",
              "        <path d=\"M19 3H5c-1.1 0-2 .9-2 2v14c0 1.1.9 2 2 2h14c1.1 0 2-.9 2-2V5c0-1.1-.9-2-2-2zM9 17H7v-7h2v7zm4 0h-2V7h2v10zm4 0h-2v-4h2v4z\"/>\n",
              "    </g>\n",
              "</svg>\n",
              "  </button>\n",
              "\n",
              "<style>\n",
              "  .colab-df-quickchart {\n",
              "      --bg-color: #E8F0FE;\n",
              "      --fill-color: #1967D2;\n",
              "      --hover-bg-color: #E2EBFA;\n",
              "      --hover-fill-color: #174EA6;\n",
              "      --disabled-fill-color: #AAA;\n",
              "      --disabled-bg-color: #DDD;\n",
              "  }\n",
              "\n",
              "  [theme=dark] .colab-df-quickchart {\n",
              "      --bg-color: #3B4455;\n",
              "      --fill-color: #D2E3FC;\n",
              "      --hover-bg-color: #434B5C;\n",
              "      --hover-fill-color: #FFFFFF;\n",
              "      --disabled-bg-color: #3B4455;\n",
              "      --disabled-fill-color: #666;\n",
              "  }\n",
              "\n",
              "  .colab-df-quickchart {\n",
              "    background-color: var(--bg-color);\n",
              "    border: none;\n",
              "    border-radius: 50%;\n",
              "    cursor: pointer;\n",
              "    display: none;\n",
              "    fill: var(--fill-color);\n",
              "    height: 32px;\n",
              "    padding: 0;\n",
              "    width: 32px;\n",
              "  }\n",
              "\n",
              "  .colab-df-quickchart:hover {\n",
              "    background-color: var(--hover-bg-color);\n",
              "    box-shadow: 0 1px 2px rgba(60, 64, 67, 0.3), 0 1px 3px 1px rgba(60, 64, 67, 0.15);\n",
              "    fill: var(--button-hover-fill-color);\n",
              "  }\n",
              "\n",
              "  .colab-df-quickchart-complete:disabled,\n",
              "  .colab-df-quickchart-complete:disabled:hover {\n",
              "    background-color: var(--disabled-bg-color);\n",
              "    fill: var(--disabled-fill-color);\n",
              "    box-shadow: none;\n",
              "  }\n",
              "\n",
              "  .colab-df-spinner {\n",
              "    border: 2px solid var(--fill-color);\n",
              "    border-color: transparent;\n",
              "    border-bottom-color: var(--fill-color);\n",
              "    animation:\n",
              "      spin 1s steps(1) infinite;\n",
              "  }\n",
              "\n",
              "  @keyframes spin {\n",
              "    0% {\n",
              "      border-color: transparent;\n",
              "      border-bottom-color: var(--fill-color);\n",
              "      border-left-color: var(--fill-color);\n",
              "    }\n",
              "    20% {\n",
              "      border-color: transparent;\n",
              "      border-left-color: var(--fill-color);\n",
              "      border-top-color: var(--fill-color);\n",
              "    }\n",
              "    30% {\n",
              "      border-color: transparent;\n",
              "      border-left-color: var(--fill-color);\n",
              "      border-top-color: var(--fill-color);\n",
              "      border-right-color: var(--fill-color);\n",
              "    }\n",
              "    40% {\n",
              "      border-color: transparent;\n",
              "      border-right-color: var(--fill-color);\n",
              "      border-top-color: var(--fill-color);\n",
              "    }\n",
              "    60% {\n",
              "      border-color: transparent;\n",
              "      border-right-color: var(--fill-color);\n",
              "    }\n",
              "    80% {\n",
              "      border-color: transparent;\n",
              "      border-right-color: var(--fill-color);\n",
              "      border-bottom-color: var(--fill-color);\n",
              "    }\n",
              "    90% {\n",
              "      border-color: transparent;\n",
              "      border-bottom-color: var(--fill-color);\n",
              "    }\n",
              "  }\n",
              "</style>\n",
              "\n",
              "  <script>\n",
              "    async function quickchart(key) {\n",
              "      const quickchartButtonEl =\n",
              "        document.querySelector('#' + key + ' button');\n",
              "      quickchartButtonEl.disabled = true;  // To prevent multiple clicks.\n",
              "      quickchartButtonEl.classList.add('colab-df-spinner');\n",
              "      try {\n",
              "        const charts = await google.colab.kernel.invokeFunction(\n",
              "            'suggestCharts', [key], {});\n",
              "      } catch (error) {\n",
              "        console.error('Error during call to suggestCharts:', error);\n",
              "      }\n",
              "      quickchartButtonEl.classList.remove('colab-df-spinner');\n",
              "      quickchartButtonEl.classList.add('colab-df-quickchart-complete');\n",
              "    }\n",
              "    (() => {\n",
              "      let quickchartButtonEl =\n",
              "        document.querySelector('#df-f7112a70-82e6-4fe2-8200-e0367f0aa9bd button');\n",
              "      quickchartButtonEl.style.display =\n",
              "        google.colab.kernel.accessAllowed ? 'block' : 'none';\n",
              "    })();\n",
              "  </script>\n",
              "</div>\n",
              "\n",
              "    </div>\n",
              "  </div>\n"
            ],
            "application/vnd.google.colaboratory.intrinsic+json": {
              "type": "dataframe",
              "variable_name": "X",
              "summary": "{\n  \"name\": \"X\",\n  \"rows\": 3000,\n  \"fields\": [\n    {\n      \"column\": \"Age\",\n      \"properties\": {\n        \"dtype\": \"number\",\n        \"std\": 10,\n        \"min\": 8,\n        \"max\": 84,\n        \"num_unique_values\": 70,\n        \"samples\": [\n          38,\n          48,\n          49\n        ],\n        \"semantic_type\": \"\",\n        \"description\": \"\"\n      }\n    },\n    {\n      \"column\": \"Agency_Code\",\n      \"properties\": {\n        \"dtype\": \"int8\",\n        \"num_unique_values\": 4,\n        \"samples\": [\n          2,\n          3,\n          0\n        ],\n        \"semantic_type\": \"\",\n        \"description\": \"\"\n      }\n    },\n    {\n      \"column\": \"Type\",\n      \"properties\": {\n        \"dtype\": \"int8\",\n        \"num_unique_values\": 2,\n        \"samples\": [\n          1,\n          0\n        ],\n        \"semantic_type\": \"\",\n        \"description\": \"\"\n      }\n    },\n    {\n      \"column\": \"Commision\",\n      \"properties\": {\n        \"dtype\": \"number\",\n        \"std\": 25.481454506625926,\n        \"min\": 0.0,\n        \"max\": 210.21,\n        \"num_unique_values\": 324,\n        \"samples\": [\n          24.86,\n          18.85\n        ],\n        \"semantic_type\": \"\",\n        \"description\": \"\"\n      }\n    },\n    {\n      \"column\": \"Channel\",\n      \"properties\": {\n        \"dtype\": \"int8\",\n        \"num_unique_values\": 2,\n        \"samples\": [\n          0,\n          1\n        ],\n        \"semantic_type\": \"\",\n        \"description\": \"\"\n      }\n    },\n    {\n      \"column\": \"Duration\",\n      \"properties\": {\n        \"dtype\": \"number\",\n        \"std\": 134,\n        \"min\": -1,\n        \"max\": 4580,\n        \"num_unique_values\": 257,\n        \"samples\": [\n          289,\n          118\n        ],\n        \"semantic_type\": \"\",\n        \"description\": \"\"\n      }\n    },\n    {\n      \"column\": \"Sales\",\n      \"properties\": {\n        \"dtype\": \"number\",\n        \"std\": 70.73395353143037,\n        \"min\": 0.0,\n        \"max\": 539.0,\n        \"num_unique_values\": 380,\n        \"samples\": [\n          188.0,\n          181.0\n        ],\n        \"semantic_type\": \"\",\n        \"description\": \"\"\n      }\n    },\n    {\n      \"column\": \"Product Name\",\n      \"properties\": {\n        \"dtype\": \"int8\",\n        \"num_unique_values\": 5,\n        \"samples\": [\n          1,\n          3\n        ],\n        \"semantic_type\": \"\",\n        \"description\": \"\"\n      }\n    },\n    {\n      \"column\": \"Destination\",\n      \"properties\": {\n        \"dtype\": \"int8\",\n        \"num_unique_values\": 3,\n        \"samples\": [\n          0,\n          1\n        ],\n        \"semantic_type\": \"\",\n        \"description\": \"\"\n      }\n    }\n  ]\n}"
            }
          },
          "metadata": {},
          "execution_count": 15
        }
      ],
      "source": [
        "X = ld_df.drop(\"Claimed\", axis=1)\n",
        "\n",
        "\n",
        "\n",
        "y = ld_df.pop(\"Claimed\")\n",
        "\n",
        "X.head()\n"
      ]
    },
    {
      "cell_type": "code",
      "execution_count": null,
      "id": "hzHsOM7GNUEn",
      "metadata": {
        "id": "hzHsOM7GNUEn"
      },
      "outputs": [],
      "source": [
        "# correlation = X.corr()\n",
        "# plt.figure(figsize=(10,7))\n",
        "# sns.heatmap(correlation, annot=True, cmap='PuBuGn')\n",
        "# plt.title('correlation matrix')"
      ]
    },
    {
      "cell_type": "code",
      "execution_count": null,
      "id": "a1882109",
      "metadata": {
        "id": "a1882109"
      },
      "outputs": [],
      "source": [
        "from sklearn.model_selection import train_test_split\n",
        "\n",
        "X_train, X_test,y_train, y_test= train_test_split(X, y, test_size=.30, random_state=1)\n"
      ]
    },
    {
      "cell_type": "code",
      "execution_count": null,
      "id": "d2cc4c4a",
      "metadata": {
        "colab": {
          "base_uri": "https://localhost:8080/"
        },
        "id": "d2cc4c4a",
        "outputId": "e6c5f2a9-e0f4-4581-a308-cbe8b46e2b60"
      },
      "outputs": [
        {
          "output_type": "stream",
          "name": "stdout",
          "text": [
            "X_train (2100, 9)\n",
            "X_test (900, 9)\n",
            "Total Obs 3000\n"
          ]
        }
      ],
      "source": [
        "print('X_train',X_train.shape)\n",
        "print('X_test',X_test.shape)\n",
        "\n",
        "\n",
        "print('Total Obs',2100+900)"
      ]
    },
    {
      "cell_type": "code",
      "execution_count": null,
      "id": "e6ad5be4",
      "metadata": {
        "id": "e6ad5be4"
      },
      "outputs": [],
      "source": [
        "from sklearn.preprocessing import StandardScaler"
      ]
    },
    {
      "cell_type": "code",
      "execution_count": null,
      "id": "753dd383",
      "metadata": {
        "id": "753dd383"
      },
      "outputs": [],
      "source": [
        "#Initialize an object for StandardScaler\n",
        "sc = StandardScaler()"
      ]
    },
    {
      "cell_type": "code",
      "execution_count": null,
      "id": "dfa5cca1",
      "metadata": {
        "id": "dfa5cca1"
      },
      "outputs": [],
      "source": [
        "#Scale the training data\n",
        "x_train = sc.fit_transform(X_train)"
      ]
    },
    {
      "cell_type": "code",
      "execution_count": null,
      "id": "cfc0632c",
      "metadata": {
        "colab": {
          "base_uri": "https://localhost:8080/"
        },
        "id": "cfc0632c",
        "outputId": "026cefd7-51cf-4a96-c1f5-91ab9bc6e707"
      },
      "outputs": [
        {
          "output_type": "execute_result",
          "data": {
            "text/plain": [
              "array([[-0.19192502,  0.72815922,  0.80520286, ..., -0.5730663 ,\n",
              "         0.24642411, -0.43926017],\n",
              "       [-0.19192502,  0.72815922,  0.80520286, ..., -0.26910565,\n",
              "         0.24642411,  1.27851702],\n",
              "       [-0.97188154, -1.28518425, -1.24192306, ...,  1.74601534,\n",
              "         1.83381865, -0.43926017],\n",
              "       ...,\n",
              "       [-0.19192502,  0.72815922,  0.80520286, ...,  0.02103862,\n",
              "         0.24642411, -0.43926017],\n",
              "       [ 0.58803151,  1.73483096, -1.24192306, ..., -0.60069909,\n",
              "        -1.34097044, -0.43926017],\n",
              "       [-0.19192502, -1.28518425, -1.24192306, ..., -0.53852532,\n",
              "         1.83381865, -0.43926017]])"
            ]
          },
          "metadata": {},
          "execution_count": 22
        }
      ],
      "source": [
        "x_train"
      ]
    },
    {
      "cell_type": "code",
      "execution_count": null,
      "id": "d415c7ab",
      "metadata": {
        "id": "d415c7ab"
      },
      "outputs": [],
      "source": [
        "# Apply the transformation on the test data\n",
        "x_test = sc.transform(X_test)"
      ]
    },
    {
      "cell_type": "code",
      "execution_count": null,
      "id": "bbeb9c64",
      "metadata": {
        "colab": {
          "base_uri": "https://localhost:8080/"
        },
        "id": "bbeb9c64",
        "outputId": "647f3564-872f-4264-d007-e5ade7639e7b"
      },
      "outputs": [
        {
          "output_type": "execute_result",
          "data": {
            "text/plain": [
              "array([[-1.55684893, -0.27851251,  0.80520286, ...,  0.18683534,\n",
              "        -1.34097044,  2.99629421],\n",
              "       [ 1.66047173, -1.28518425, -1.24192306, ..., -0.48325974,\n",
              "        -1.34097044, -0.43926017],\n",
              "       [-0.87438698, -1.28518425, -1.24192306, ..., -0.62833187,\n",
              "        -1.34097044, -0.43926017],\n",
              "       ...,\n",
              "       [-0.19192502, -1.28518425, -1.24192306, ..., -0.47635155,\n",
              "        -1.34097044, -0.43926017],\n",
              "       [ 1.07550434,  1.73483096, -1.24192306, ..., -0.43490237,\n",
              "        -1.34097044, -0.43926017],\n",
              "       [-0.28941958,  1.73483096, -1.24192306, ..., -0.49016794,\n",
              "        -1.34097044, -0.43926017]])"
            ]
          },
          "metadata": {},
          "execution_count": 24
        }
      ],
      "source": [
        "x_test"
      ]
    },
    {
      "cell_type": "code",
      "execution_count": null,
      "id": "339fd609",
      "metadata": {
        "id": "339fd609"
      },
      "outputs": [],
      "source": [
        "clf = MLPClassifier(hidden_layer_sizes=100, max_iter=5000,\n",
        "                     solver='sgd', verbose=True,\n",
        "                    random_state=1,tol=0.01)"
      ]
    },
    {
      "cell_type": "code",
      "execution_count": null,
      "id": "a65d64a6",
      "metadata": {
        "colab": {
          "base_uri": "https://localhost:8080/",
          "height": 456
        },
        "id": "a65d64a6",
        "outputId": "bfaa17df-7d28-456a-b255-5b2b7dbe6e4b"
      },
      "outputs": [
        {
          "output_type": "stream",
          "name": "stdout",
          "text": [
            "Iteration 1, loss = 0.73190828\n",
            "Iteration 2, loss = 0.70481842\n",
            "Iteration 3, loss = 0.67377712\n",
            "Iteration 4, loss = 0.64619472\n",
            "Iteration 5, loss = 0.62272023\n",
            "Iteration 6, loss = 0.60330223\n",
            "Iteration 7, loss = 0.58732612\n",
            "Iteration 8, loss = 0.57422402\n",
            "Iteration 9, loss = 0.56310704\n",
            "Iteration 10, loss = 0.55382327\n",
            "Iteration 11, loss = 0.54599574\n",
            "Iteration 12, loss = 0.53911673\n",
            "Iteration 13, loss = 0.53335898\n",
            "Iteration 14, loss = 0.52839899\n",
            "Iteration 15, loss = 0.52391237\n",
            "Iteration 16, loss = 0.51999360\n",
            "Iteration 17, loss = 0.51649432\n",
            "Iteration 18, loss = 0.51346008\n",
            "Iteration 19, loss = 0.51074817\n",
            "Iteration 20, loss = 0.50822930\n",
            "Training loss did not improve more than tol=0.010000 for 10 consecutive epochs. Stopping.\n"
          ]
        },
        {
          "output_type": "execute_result",
          "data": {
            "text/plain": [
              "MLPClassifier(hidden_layer_sizes=100, max_iter=5000, random_state=1,\n",
              "              solver='sgd', tol=0.01, verbose=True)"
            ],
            "text/html": [
              "<style>#sk-container-id-1 {color: black;background-color: white;}#sk-container-id-1 pre{padding: 0;}#sk-container-id-1 div.sk-toggleable {background-color: white;}#sk-container-id-1 label.sk-toggleable__label {cursor: pointer;display: block;width: 100%;margin-bottom: 0;padding: 0.3em;box-sizing: border-box;text-align: center;}#sk-container-id-1 label.sk-toggleable__label-arrow:before {content: \"▸\";float: left;margin-right: 0.25em;color: #696969;}#sk-container-id-1 label.sk-toggleable__label-arrow:hover:before {color: black;}#sk-container-id-1 div.sk-estimator:hover label.sk-toggleable__label-arrow:before {color: black;}#sk-container-id-1 div.sk-toggleable__content {max-height: 0;max-width: 0;overflow: hidden;text-align: left;background-color: #f0f8ff;}#sk-container-id-1 div.sk-toggleable__content pre {margin: 0.2em;color: black;border-radius: 0.25em;background-color: #f0f8ff;}#sk-container-id-1 input.sk-toggleable__control:checked~div.sk-toggleable__content {max-height: 200px;max-width: 100%;overflow: auto;}#sk-container-id-1 input.sk-toggleable__control:checked~label.sk-toggleable__label-arrow:before {content: \"▾\";}#sk-container-id-1 div.sk-estimator input.sk-toggleable__control:checked~label.sk-toggleable__label {background-color: #d4ebff;}#sk-container-id-1 div.sk-label input.sk-toggleable__control:checked~label.sk-toggleable__label {background-color: #d4ebff;}#sk-container-id-1 input.sk-hidden--visually {border: 0;clip: rect(1px 1px 1px 1px);clip: rect(1px, 1px, 1px, 1px);height: 1px;margin: -1px;overflow: hidden;padding: 0;position: absolute;width: 1px;}#sk-container-id-1 div.sk-estimator {font-family: monospace;background-color: #f0f8ff;border: 1px dotted black;border-radius: 0.25em;box-sizing: border-box;margin-bottom: 0.5em;}#sk-container-id-1 div.sk-estimator:hover {background-color: #d4ebff;}#sk-container-id-1 div.sk-parallel-item::after {content: \"\";width: 100%;border-bottom: 1px solid gray;flex-grow: 1;}#sk-container-id-1 div.sk-label:hover label.sk-toggleable__label {background-color: #d4ebff;}#sk-container-id-1 div.sk-serial::before {content: \"\";position: absolute;border-left: 1px solid gray;box-sizing: border-box;top: 0;bottom: 0;left: 50%;z-index: 0;}#sk-container-id-1 div.sk-serial {display: flex;flex-direction: column;align-items: center;background-color: white;padding-right: 0.2em;padding-left: 0.2em;position: relative;}#sk-container-id-1 div.sk-item {position: relative;z-index: 1;}#sk-container-id-1 div.sk-parallel {display: flex;align-items: stretch;justify-content: center;background-color: white;position: relative;}#sk-container-id-1 div.sk-item::before, #sk-container-id-1 div.sk-parallel-item::before {content: \"\";position: absolute;border-left: 1px solid gray;box-sizing: border-box;top: 0;bottom: 0;left: 50%;z-index: -1;}#sk-container-id-1 div.sk-parallel-item {display: flex;flex-direction: column;z-index: 1;position: relative;background-color: white;}#sk-container-id-1 div.sk-parallel-item:first-child::after {align-self: flex-end;width: 50%;}#sk-container-id-1 div.sk-parallel-item:last-child::after {align-self: flex-start;width: 50%;}#sk-container-id-1 div.sk-parallel-item:only-child::after {width: 0;}#sk-container-id-1 div.sk-dashed-wrapped {border: 1px dashed gray;margin: 0 0.4em 0.5em 0.4em;box-sizing: border-box;padding-bottom: 0.4em;background-color: white;}#sk-container-id-1 div.sk-label label {font-family: monospace;font-weight: bold;display: inline-block;line-height: 1.2em;}#sk-container-id-1 div.sk-label-container {text-align: center;}#sk-container-id-1 div.sk-container {/* jupyter's `normalize.less` sets `[hidden] { display: none; }` but bootstrap.min.css set `[hidden] { display: none !important; }` so we also need the `!important` here to be able to override the default hidden behavior on the sphinx rendered scikit-learn.org. See: https://github.com/scikit-learn/scikit-learn/issues/21755 */display: inline-block !important;position: relative;}#sk-container-id-1 div.sk-text-repr-fallback {display: none;}</style><div id=\"sk-container-id-1\" class=\"sk-top-container\"><div class=\"sk-text-repr-fallback\"><pre>MLPClassifier(hidden_layer_sizes=100, max_iter=5000, random_state=1,\n",
              "              solver=&#x27;sgd&#x27;, tol=0.01, verbose=True)</pre><b>In a Jupyter environment, please rerun this cell to show the HTML representation or trust the notebook. <br />On GitHub, the HTML representation is unable to render, please try loading this page with nbviewer.org.</b></div><div class=\"sk-container\" hidden><div class=\"sk-item\"><div class=\"sk-estimator sk-toggleable\"><input class=\"sk-toggleable__control sk-hidden--visually\" id=\"sk-estimator-id-1\" type=\"checkbox\" checked><label for=\"sk-estimator-id-1\" class=\"sk-toggleable__label sk-toggleable__label-arrow\">MLPClassifier</label><div class=\"sk-toggleable__content\"><pre>MLPClassifier(hidden_layer_sizes=100, max_iter=5000, random_state=1,\n",
              "              solver=&#x27;sgd&#x27;, tol=0.01, verbose=True)</pre></div></div></div></div></div>"
            ]
          },
          "metadata": {},
          "execution_count": 26
        }
      ],
      "source": [
        "# Fit the model on the training data\n",
        "clf.fit(x_train, y_train)"
      ]
    },
    {
      "cell_type": "code",
      "execution_count": null,
      "id": "6326669f",
      "metadata": {
        "id": "6326669f"
      },
      "outputs": [],
      "source": [
        "# use the model to predict the training data\n",
        "y_pred1 = clf.predict(x_train)"
      ]
    },
    {
      "cell_type": "code",
      "execution_count": null,
      "id": "a5b30b4c",
      "metadata": {
        "colab": {
          "base_uri": "https://localhost:8080/"
        },
        "id": "a5b30b4c",
        "outputId": "d44703e2-c860-426c-8182-acd0e181aff1"
      },
      "outputs": [
        {
          "output_type": "display_data",
          "data": {
            "text/plain": [
              "<Figure size 640x480 with 2 Axes>"
            ],
            "image/png": "[encoded data removed]"
          },
          "metadata": {}
        }
      ],
      "source": [
        "import numpy as np\n",
        "import matplotlib.pyplot as plt\n",
        "from sklearn.metrics import confusion_matrix\n",
        "\n",
        "\n",
        "\n",
        "# generate the confusion matrix\n",
        "cm = confusion_matrix(y_train, y_pred1)\n",
        "\n",
        "# plot the confusion matrix\n",
        "plt.imshow(cm, interpolation='nearest', cmap=plt.cm.Blues)\n",
        "plt.title('Neural Networks Test Data Confusion Matrix')\n",
        "plt.colorbar()\n",
        "tick_marks = np.arange(len(np.unique(y_test)))\n",
        "plt.xticks(tick_marks, np.unique(y_test))\n",
        "plt.yticks(tick_marks, np.unique(y_test))\n",
        "plt.xlabel('Predicted Label')\n",
        "plt.ylabel('True Label')\n",
        "\n",
        "# add the values of the cells to the plot\n",
        "thresh = cm.max() / 2.\n",
        "for i in range(cm.shape[0]):\n",
        "    for j in range(cm.shape[1]):\n",
        "        plt.text(j, i, format(cm[i, j], '.0f'),\n",
        "                 horizontalalignment=\"center\",\n",
        "                 color=\"white\" if cm[i, j] > thresh else \"black\")\n",
        "\n",
        "\n",
        "plt.show()\n"
      ]
    },
    {
      "cell_type": "code",
      "execution_count": null,
      "id": "711caf1e",
      "metadata": {
        "colab": {
          "base_uri": "https://localhost:8080/"
        },
        "id": "711caf1e",
        "outputId": "41fb7f2e-0d10-43fd-8d94-14cf6c5fea65"
      },
      "outputs": [
        {
          "output_type": "execute_result",
          "data": {
            "text/plain": [
              "0.7585714285714286"
            ]
          },
          "metadata": {},
          "execution_count": 29
        }
      ],
      "source": [
        "clf.score(x_train,y_train)"
      ]
    },
    {
      "cell_type": "code",
      "execution_count": null,
      "id": "dbf5c266",
      "metadata": {
        "id": "dbf5c266"
      },
      "outputs": [],
      "source": [
        "from sklearn.metrics import classification_report"
      ]
    },
    {
      "cell_type": "code",
      "execution_count": null,
      "id": "518ca1f2",
      "metadata": {
        "colab": {
          "base_uri": "https://localhost:8080/"
        },
        "id": "518ca1f2",
        "outputId": "c5642722-c081-4119-9a42-0c3b6ed8f130"
      },
      "outputs": [
        {
          "output_type": "stream",
          "name": "stdout",
          "text": [
            "              precision    recall  f1-score   support\n",
            "\n",
            "           0       0.76      0.95      0.85      1471\n",
            "           1       0.72      0.31      0.44       629\n",
            "\n",
            "    accuracy                           0.76      2100\n",
            "   macro avg       0.74      0.63      0.64      2100\n",
            "weighted avg       0.75      0.76      0.72      2100\n",
            "\n"
          ]
        }
      ],
      "source": [
        "print(classification_report(y_train, y_pred1))"
      ]
    },
    {
      "cell_type": "code",
      "execution_count": null,
      "id": "43e2b91f",
      "metadata": {
        "colab": {
          "base_uri": "https://localhost:8080/"
        },
        "id": "43e2b91f",
        "outputId": "9acd6a97-0b54-4472-cd91-1a168b12df4b"
      },
      "outputs": [
        {
          "output_type": "stream",
          "name": "stdout",
          "text": [
            "AUC: 0.792\n"
          ]
        },
        {
          "output_type": "display_data",
          "data": {
            "text/plain": [
              "<Figure size 640x480 with 1 Axes>"
            ],
            "image/png": "[encoded data removed]"
          },
          "metadata": {}
        }
      ],
      "source": [
        "# AUC and ROC for the training data\n",
        "# predict probabilities\n",
        "probs = clf.predict_proba(x_train)\n",
        "# keep probabilities for the positive outcome only\n",
        "probs = probs[:, 1]\n",
        "# calculate AUC\n",
        "from sklearn.metrics import roc_auc_score\n",
        "auc = roc_auc_score(y_train, probs)\n",
        "print('AUC: %.3f' % auc)\n",
        "# calculate roc curve\n",
        "from sklearn.metrics import roc_curve\n",
        "fpr, tpr, thresholds = roc_curve(y_train, probs)\n",
        "plt.plot([0, 1], [0, 1], linestyle='--')\n",
        "# plot the roc curve for the model\n",
        "plt.plot(fpr, tpr, marker='.')\n",
        "# show the plot\n",
        "plt.show()"
      ]
    },
    {
      "cell_type": "code",
      "execution_count": null,
      "id": "cf162a3e",
      "metadata": {
        "id": "cf162a3e"
      },
      "outputs": [],
      "source": [
        "y_pred = clf.predict(x_test)"
      ]
    },
    {
      "cell_type": "code",
      "execution_count": null,
      "id": "13e66850",
      "metadata": {
        "colab": {
          "base_uri": "https://localhost:8080/"
        },
        "id": "13e66850",
        "outputId": "e5093c80-99d0-409e-94c4-049ce08fa09a"
      },
      "outputs": [
        {
          "output_type": "display_data",
          "data": {
            "text/plain": [
              "<Figure size 640x480 with 2 Axes>"
            ],
            "image/png": "[encoded data removed]"
          },
          "metadata": {}
        }
      ],
      "source": [
        "import numpy as np\n",
        "import matplotlib.pyplot as plt\n",
        "from sklearn.metrics import confusion_matrix\n",
        "\n",
        "\n",
        "\n",
        "# generate the confusion matrix\n",
        "cm = confusion_matrix(y_test, y_pred)\n",
        "\n",
        "# plot the confusion matrix\n",
        "plt.imshow(cm, interpolation='nearest', cmap=plt.cm.Blues)\n",
        "plt.title('Neural Networks Test Data Confusion Matrix')\n",
        "plt.colorbar()\n",
        "tick_marks = np.arange(len(np.unique(y_test)))\n",
        "plt.xticks(tick_marks, np.unique(y_test))\n",
        "plt.yticks(tick_marks, np.unique(y_test))\n",
        "plt.xlabel('Predicted Label')\n",
        "plt.ylabel('True Label')\n",
        "\n",
        "# add the values of the cells to the plot\n",
        "thresh = cm.max() / 2.\n",
        "for i in range(cm.shape[0]):\n",
        "    for j in range(cm.shape[1]):\n",
        "        plt.text(j, i, format(cm[i, j], '.0f'),\n",
        "                 horizontalalignment=\"center\",\n",
        "                 color=\"white\" if cm[i, j] > thresh else \"black\")\n",
        "\n",
        "\n",
        "plt.show()\n"
      ]
    },
    {
      "cell_type": "code",
      "execution_count": null,
      "id": "7f0feb92",
      "metadata": {
        "colab": {
          "base_uri": "https://localhost:8080/"
        },
        "id": "7f0feb92",
        "outputId": "c9de3996-dcda-4dcf-9612-daaf23a8a00d"
      },
      "outputs": [
        {
          "output_type": "execute_result",
          "data": {
            "text/plain": [
              "0.7344444444444445"
            ]
          },
          "metadata": {},
          "execution_count": 35
        }
      ],
      "source": [
        "clf.score(x_test,y_test)"
      ]
    },
    {
      "cell_type": "code",
      "execution_count": null,
      "id": "6d745ab5",
      "metadata": {
        "colab": {
          "base_uri": "https://localhost:8080/"
        },
        "id": "6d745ab5",
        "outputId": "6db5a10a-afb1-4b32-f24c-924da63d32ac"
      },
      "outputs": [
        {
          "output_type": "stream",
          "name": "stdout",
          "text": [
            "Classification report for Train Dataset for Initial modal \n",
            "               precision    recall  f1-score   support\n",
            "\n",
            "           0       0.76      0.95      0.85      1471\n",
            "           1       0.72      0.31      0.44       629\n",
            "\n",
            "    accuracy                           0.76      2100\n",
            "   macro avg       0.74      0.63      0.64      2100\n",
            "weighted avg       0.75      0.76      0.72      2100\n",
            "\n",
            "Classification report for Test Dataset for Initial modal \n",
            "               precision    recall  f1-score   support\n",
            "\n",
            "           0       0.73      0.96      0.83       605\n",
            "           1       0.77      0.27      0.40       295\n",
            "\n",
            "    accuracy                           0.73       900\n",
            "   macro avg       0.75      0.61      0.61       900\n",
            "weighted avg       0.74      0.73      0.69       900\n",
            "\n"
          ]
        }
      ],
      "source": [
        "print(\"Classification report for Train Dataset for Initial modal\",\"\\n\",classification_report(y_train, y_pred1))\n",
        "\n",
        "print(\"Classification report for Test Dataset for Initial modal\",\"\\n\",classification_report(y_test, y_pred))"
      ]
    },
    {
      "cell_type": "code",
      "execution_count": null,
      "id": "d080d5d7",
      "metadata": {
        "colab": {
          "base_uri": "https://localhost:8080/"
        },
        "id": "d080d5d7",
        "outputId": "35bfdf4b-3a5e-415a-d669-6d452cf4e86b"
      },
      "outputs": [
        {
          "output_type": "stream",
          "name": "stdout",
          "text": [
            "AUC: 0.767\n"
          ]
        },
        {
          "output_type": "display_data",
          "data": {
            "text/plain": [
              "<Figure size 640x480 with 1 Axes>"
            ],
            "image/png": "[encoded data removed]"
          },
          "metadata": {}
        }
      ],
      "source": [
        "# AUC and ROC for the test data\n",
        "\n",
        "# predict probabilities\n",
        "probs = clf.predict_proba(x_test)\n",
        "# keep probabilities for the positive outcome only\n",
        "probs = probs[:, 1]\n",
        "# calculate AUC\n",
        "auc = roc_auc_score(y_test, probs)\n",
        "print('AUC: %.3f' % auc)\n",
        "# calculate roc curve\n",
        "fpr, tpr, thresholds = roc_curve(y_test, probs)\n",
        "plt.plot([0, 1], [0, 1], linestyle='--')\n",
        "# plot the roc curve for the model\n",
        "plt.plot(fpr, tpr, marker='.')\n",
        "# show the plot\n",
        "plt.show()"
      ]
    },
    {
      "cell_type": "code",
      "execution_count": null,
      "id": "0e2af6f8",
      "metadata": {
        "id": "0e2af6f8"
      },
      "outputs": [],
      "source": [
        "from sklearn.model_selection import GridSearchCV\n",
        "\n",
        "param_grid = {\n",
        "    'hidden_layer_sizes': [50,100,200,300,500],\n",
        "    'max_iter': [500,750,1000,3000],\n",
        "    'solver': ['sgd','adam'],\n",
        "    'tol': [0.001],\n",
        "}\n",
        "\n",
        "nncl = MLPClassifier(random_state=1)\n",
        "\n",
        "grid_search = GridSearchCV(estimator = nncl,\n",
        "                           param_grid =param_grid, cv = 10)"
      ]
    },
    {
      "cell_type": "code",
      "execution_count": null,
      "id": "1cb2bf3f",
      "metadata": {
        "id": "1cb2bf3f"
      },
      "outputs": [],
      "source": [
        "grid_search.fit(x_train, y_train)"
      ]
    },
    {
      "cell_type": "code",
      "execution_count": null,
      "id": "0b53fe49",
      "metadata": {
        "id": "0b53fe49"
      },
      "outputs": [],
      "source": [
        "grid_search.best_params_"
      ]
    },
    {
      "cell_type": "code",
      "execution_count": null,
      "id": "319d6ee7",
      "metadata": {
        "id": "319d6ee7"
      },
      "outputs": [],
      "source": [
        "best_grid = grid_search.best_estimator_"
      ]
    },
    {
      "cell_type": "code",
      "execution_count": null,
      "id": "2da765fd",
      "metadata": {
        "id": "2da765fd"
      },
      "outputs": [],
      "source": [
        "best_grid"
      ]
    },
    {
      "cell_type": "code",
      "execution_count": null,
      "id": "8a44e34f",
      "metadata": {
        "id": "8a44e34f"
      },
      "outputs": [],
      "source": [
        "ytrain_predict = best_grid.predict(x_train)\n",
        "ytest_predict = best_grid.predict(x_test)"
      ]
    },
    {
      "cell_type": "code",
      "execution_count": null,
      "id": "c639daef",
      "metadata": {
        "id": "c639daef"
      },
      "outputs": [],
      "source": []
    },
    {
      "cell_type": "code",
      "execution_count": null,
      "id": "f2f50010",
      "metadata": {
        "id": "f2f50010"
      },
      "outputs": [],
      "source": [
        "confusion_matrix(y_train,ytrain_predict) # alternate method to print CM"
      ]
    },
    {
      "cell_type": "code",
      "execution_count": null,
      "id": "32b83216",
      "metadata": {
        "id": "32b83216"
      },
      "outputs": [],
      "source": [
        "best_grid.score(x_train,y_train)"
      ]
    },
    {
      "cell_type": "code",
      "execution_count": null,
      "id": "a55ebe5b",
      "metadata": {
        "id": "a55ebe5b"
      },
      "outputs": [],
      "source": [
        "print(classification_report(y_train,ytrain_predict))"
      ]
    },
    {
      "cell_type": "code",
      "execution_count": null,
      "id": "b10d48b4",
      "metadata": {
        "id": "b10d48b4"
      },
      "outputs": [],
      "source": [
        "#from sklearn.metrics import roc_curve,roc_auc_score\n",
        "rf_fpr, rf_tpr,_=roc_curve(y_train,best_grid.predict_proba(x_train)[:,1])\n",
        "plt.plot(rf_fpr,rf_tpr, marker='x', label='NN')\n",
        "plt.plot(np.arange(0,1.1,0.1),np.arange(0,1.1,0.1))\n",
        "plt.xlabel('False Positive Rate')\n",
        "plt.ylabel('True Positive Rate')\n",
        "plt.title('ROC Train Data Predictions-ANN')\n",
        "plt.show()\n",
        "print('Area under Curve is', roc_auc_score(y_train,\n",
        "                                           best_grid.predict_proba(x_train)[:,1]))"
      ]
    },
    {
      "cell_type": "code",
      "execution_count": null,
      "id": "a9adf87c",
      "metadata": {
        "id": "a9adf87c"
      },
      "outputs": [],
      "source": [
        "from sklearn.metrics import ConfusionMatrixDisplay, confusion_matrix\n",
        "import matplotlib.pyplot as plt\n",
        "\n",
        "# Assuming best_grid is your trained model\n",
        "y_pred2 = best_grid.predict(x_test)\n",
        "cm = confusion_matrix(y_test, y_pred2)\n",
        "\n",
        "disp = ConfusionMatrixDisplay(confusion_matrix=cm)\n",
        "disp.plot()\n",
        "\n",
        "# Customize the plot\n",
        "\n",
        "plt.title('Confusion Matrix - Test Data Predictions--ANN')\n",
        "plt.show()\n"
      ]
    },
    {
      "cell_type": "code",
      "execution_count": null,
      "id": "5a54b2c4",
      "metadata": {
        "id": "5a54b2c4"
      },
      "outputs": [],
      "source": [
        "best_grid.score(x_test,y_test)"
      ]
    },
    {
      "cell_type": "code",
      "execution_count": null,
      "id": "de41ddd2",
      "metadata": {
        "id": "de41ddd2"
      },
      "outputs": [],
      "source": [
        "print(\"A--Classification report for Train Dataset for Hypertuned modal\",\"\\n\",classification_report(y_train,ytrain_predict))\n",
        "print(\"B--Classification report for Test Dataset for Hypertuned modal\",\"\\n\",classification_report(y_test,ytest_predict))"
      ]
    },
    {
      "cell_type": "code",
      "execution_count": null,
      "id": "7b6119dc",
      "metadata": {
        "id": "7b6119dc"
      },
      "outputs": [],
      "source": [
        "#from sklearn.metrics import roc_curve,roc_auc_score\n",
        "rf_fpr, rf_tpr,_=roc_curve(y_test,best_grid.predict_proba(x_test)[:,1])\n",
        "plt.plot(rf_fpr,rf_tpr, marker='x', label='NN')\n",
        "plt.plot(np.arange(0,1.1,0.1),np.arange(0,1.1,0.1))\n",
        "plt.xlabel('False Positive Rate')\n",
        "plt.ylabel('True Positive Rate')\n",
        "plt.title('ROC -Test Data Predictions-ANN')\n",
        "plt.show()\n",
        "print('Area under Curve is', roc_auc_score(y_test,best_grid.predict_proba(x_test)[:,1]))"
      ]
    },
    {
      "cell_type": "code",
      "execution_count": null,
      "id": "eb924cb5",
      "metadata": {
        "id": "eb924cb5"
      },
      "outputs": [],
      "source": [
        "X.info()"
      ]
    },
    {
      "cell_type": "code",
      "execution_count": null,
      "metadata": {
        "id": "46240946"
      },
      "outputs": [],
      "source": [
        "new_data = np.array([[36, 1, 1, 0, 0, 23, 110, 0, 2]])\n",
        "\n",
        "\n",
        "predicted_claimed_status = best_grid.predict(new_data)\n",
        "\n",
        "print(\"Predicted Claimed status:\", predicted_claimed_status)#END"
      ],
      "id": "46240946"
    }
  ],
  "metadata": {
    "colab": {
      "provenance": []
    },
    "kernelspec": {
      "display_name": "Python 3 (ipykernel)",
      "language": "python",
      "name": "python3"
    },
    "language_info": {
      "codemirror_mode": {
        "name": "ipython",
        "version": 3
      },
      "file_extension": ".py",
      "mimetype": "text/x-python",
      "name": "python",
      "nbconvert_exporter": "python",
      "pygments_lexer": "ipython3",
      "version": "3.9.13"
    }
  },
  "nbformat": 4,
  "nbformat_minor": 5
}